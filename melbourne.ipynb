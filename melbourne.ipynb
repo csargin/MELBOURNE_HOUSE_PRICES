{
 "cells": [
  {
   "attachments": {},
   "cell_type": "markdown",
   "metadata": {},
   "source": [
    "Melbourne is currently experiencing a housing bubble (some experts say it may burst soon). Maybe someone can find a trend or give a prediction? Which suburbs are the best to buy in? Which ones are value for money? Where's the expensive side of town? And more importantly where should I buy a 2 bedroom unit?\n",
    "\n",
    "\n",
    "Suburb: Suburb\n",
    "\n",
    "Address: Address\n",
    "\n",
    "Rooms: Number of rooms\n",
    "\n",
    "Price: Price in Australian dollars\n",
    "\n",
    "Method:\n",
    "S - property sold;\n",
    "SP - property sold prior;\n",
    "PI - property passed in;\n",
    "PN - sold prior not disclosed;\n",
    "SN - sold not disclosed;\n",
    "NB - no bid;\n",
    "VB - vendor bid;\n",
    "W - withdrawn prior to auction;\n",
    "SA - sold after auction;\n",
    "SS - sold after auction price not disclosed.\n",
    "N/A - price or highest bid not available.\n",
    "\n",
    "Type:\n",
    "br - bedroom(s);\n",
    "h - house,cottage,villa, semi,terrace;\n",
    "u - unit, duplex;\n",
    "t - townhouse;\n",
    "dev site - development site;\n",
    "o res - other residential.\n",
    "\n",
    "SellerG: Real Estate Agent\n",
    "\n",
    "Date: Date sold\n",
    "\n",
    "Distance: Distance from CBD in Kilometres\n",
    "\n",
    "Regionname: General Region (West, North West, North, North east …etc)\n",
    "\n",
    "Propertycount: Number of properties that exist in the suburb.\n",
    "\n",
    "Bedroom2 : Scraped # of Bedrooms (from different source)\n",
    "\n",
    "Bathroom: Number of Bathrooms\n",
    "\n",
    "Car: Number of carspots\n",
    "\n",
    "Landsize: Land Size in Metres\n",
    "\n",
    "BuildingArea: Building Size in Metres\n",
    "\n",
    "YearBuilt: Year the house was built\n",
    "\n",
    "CouncilArea: Governing council for the area\n",
    "\n",
    "Lattitude: Self explanitory\n",
    "\n",
    "Longtitude: Self explanitory"
   ]
  },
  {
   "cell_type": "code",
   "execution_count": 8,
   "metadata": {},
   "outputs": [],
   "source": [
    "import pandas as pd\n",
    "import numpy as np\n",
    "\n",
    "import matplotlib.pyplot as plt\n",
    "import seaborn as sns\n",
    "\n",
    "from sklearn.preprocessing import StandardScaler,LabelEncoder\n",
    "from sklearn.model_selection import train_test_split, cross_validate\n",
    "from sklearn.linear_model import LogisticRegression\n",
    "from sklearn.tree import DecisionTreeClassifier\n",
    "from sklearn.ensemble import RandomForestClassifier\n",
    "from xgboost import XGBClassifier\n",
    "from lightgbm import LGBMClassifier\n",
    "from catboost import CatBoostClassifier\n",
    "\n",
    "pd.set_option('display.max_columns', None)\n",
    "pd.set_option('display.width', 500)\n",
    "pd.set_option('display.float_format',  '{:.2f}'.format)"
   ]
  },
  {
   "cell_type": "code",
   "execution_count": 14,
   "metadata": {},
   "outputs": [
    {
     "name": "stdout",
     "output_type": "stream",
     "text": [
      "       Suburb             Address  Rooms Type      Price Method SellerG       Date  Distance  Postcode  Bedroom2  Bathroom  Car  Landsize  BuildingArea  YearBuilt         CouncilArea  Lattitude  Longtitude             Regionname  Propertycount\n",
      "0  Abbotsford       68 Studley St      2    h        NaN     SS  Jellis  3/09/2016      2.50   3067.00      2.00      1.00 1.00    126.00           NaN        NaN  Yarra City Council     -37.80      145.00  Northern Metropolitan        4019.00\n",
      "1  Abbotsford        85 Turner St      2    h 1480000.00      S  Biggin  3/12/2016      2.50   3067.00      2.00      1.00 1.00    202.00           NaN        NaN  Yarra City Council     -37.80      145.00  Northern Metropolitan        4019.00\n",
      "2  Abbotsford     25 Bloomburg St      2    h 1035000.00      S  Biggin  4/02/2016      2.50   3067.00      2.00      1.00 0.00    156.00         79.00    1900.00  Yarra City Council     -37.81      144.99  Northern Metropolitan        4019.00\n",
      "3  Abbotsford  18/659 Victoria St      3    u        NaN     VB  Rounds  4/02/2016      2.50   3067.00      3.00      2.00 1.00      0.00           NaN        NaN  Yarra City Council     -37.81      145.01  Northern Metropolitan        4019.00\n",
      "4  Abbotsford        5 Charles St      3    h 1465000.00     SP  Biggin  4/03/2017      2.50   3067.00      3.00      2.00 0.00    134.00        150.00    1900.00  Yarra City Council     -37.81      144.99  Northern Metropolitan        4019.00\n",
      "         Suburb           Address  Rooms Type      Price Method   SellerG       Date  Postcode             Regionname  Propertycount  Distance                 CouncilArea\n",
      "0    Abbotsford     49 Lithgow St      3    h 1490000.00      S    Jellis  1/04/2017      3067  Northern Metropolitan           4019      3.00          Yarra City Council\n",
      "1    Abbotsford     59A Turner St      3    h 1220000.00      S  Marshall  1/04/2017      3067  Northern Metropolitan           4019      3.00          Yarra City Council\n",
      "2    Abbotsford     119B Yarra St      3    h 1420000.00      S    Nelson  1/04/2017      3067  Northern Metropolitan           4019      3.00          Yarra City Council\n",
      "3    Aberfeldie        68 Vida St      3    h 1515000.00      S     Barry  1/04/2017      3040   Western Metropolitan           1543      7.50  Moonee Valley City Council\n",
      "4  Airport West  92 Clydesdale Rd      2    h  670000.00      S    Nelson  1/04/2017      3042   Western Metropolitan           3464     10.40  Moonee Valley City Council\n",
      "(34857, 21)\n",
      "(63023, 13)\n"
     ]
    }
   ],
   "source": [
    "df_full = pd.read_csv(\"Melbourne_housing_FULL.csv\")\n",
    "df_less = pd.read_csv(\"MELBOURNE_HOUSE_PRICES_LESS.csv\")\n",
    "print(df_full.head())\n",
    "print(df_less.head())\n",
    "print(df_full.shape)\n",
    "print(df_less.shape)"
   ]
  }
 ],
 "metadata": {
  "kernelspec": {
   "display_name": "Python 3",
   "language": "python",
   "name": "python3"
  },
  "language_info": {
   "codemirror_mode": {
    "name": "ipython",
    "version": 3
   },
   "file_extension": ".py",
   "mimetype": "text/x-python",
   "name": "python",
   "nbconvert_exporter": "python",
   "pygments_lexer": "ipython3",
   "version": "3.10.0"
  },
  "orig_nbformat": 4,
  "vscode": {
   "interpreter": {
    "hash": "8d8dabf8b45494e42a5061d7500828827b544251f10daea3e78242672f3e8289"
   }
  }
 },
 "nbformat": 4,
 "nbformat_minor": 2
}
