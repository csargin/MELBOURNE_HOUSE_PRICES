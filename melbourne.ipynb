{
  "metadata": {
    "kernelspec": {
      "language": "python",
      "display_name": "Python 3",
      "name": "python3"
    },
    "language_info": {
      "name": "python",
      "version": "3.10.12",
      "mimetype": "text/x-python",
      "codemirror_mode": {
        "name": "ipython",
        "version": 3
      },
      "pygments_lexer": "ipython3",
      "nbconvert_exporter": "python",
      "file_extension": ".py"
    },
    "colab": {
      "provenance": []
    }
  },
  "nbformat_minor": 0,
  "nbformat": 4,
  "cells": [
    {
      "cell_type": "code",
      "source": [
        "# For Data Analysis\n",
        "import numpy as np\n",
        "import pandas as pd\n",
        "import seaborn as sns\n",
        "import matplotlib.pyplot as plt\n",
        "\n",
        "# For Modelling and Evaluating Performance of the Model\n",
        "from sklearn.model_selection import train_test_split\n",
        "from sklearn.metrics import mean_absolute_error, mean_squared_error, r2_score\n",
        "from sklearn.linear_model import Lasso, LinearRegression, Ridge, ElasticNet\n",
        "from sklearn.ensemble import RandomForestRegressor, AdaBoostRegressor, GradientBoostingRegressor\n",
        "from sklearn.neighbors import KNeighborsRegressor\n",
        "from sklearn.tree import DecisionTreeRegressor\n",
        "from sklearn.impute import KNNImputer, SimpleImputer\n",
        "from sklearn.preprocessing import LabelEncoder"
      ],
      "metadata": {
        "execution": {
          "iopub.status.busy": "2023-10-22T18:25:58.644202Z",
          "iopub.execute_input": "2023-10-22T18:25:58.644624Z",
          "iopub.status.idle": "2023-10-22T18:25:58.652595Z",
          "shell.execute_reply.started": "2023-10-22T18:25:58.644592Z",
          "shell.execute_reply": "2023-10-22T18:25:58.651720Z"
        },
        "trusted": true,
        "id": "t3pEAZtJOT7w"
      },
      "execution_count": 4,
      "outputs": []
    },
    {
      "cell_type": "code",
      "source": [
        "pd.set_option(\"display.max_columns\", None)\n",
        "pd.set_option(\"display.max_rows\", None)\n",
        "pd.set_option(\"display.float_format\", lambda x: \"%.2f\" %x)\n",
        "pd.set_option(\"display.width\", 500)"
      ],
      "metadata": {
        "execution": {
          "iopub.status.busy": "2023-10-22T18:26:00.821118Z",
          "iopub.execute_input": "2023-10-22T18:26:00.821969Z",
          "iopub.status.idle": "2023-10-22T18:26:00.829298Z",
          "shell.execute_reply.started": "2023-10-22T18:26:00.821926Z",
          "shell.execute_reply": "2023-10-22T18:26:00.827914Z"
        },
        "trusted": true,
        "id": "GCMkleMQOT70"
      },
      "execution_count": 5,
      "outputs": []
    },
    {
      "cell_type": "code",
      "source": [
        "df_ = pd.read_csv(\"Melbourne_housing_FULL.csv\")\n",
        "df = df_.copy()"
      ],
      "metadata": {
        "execution": {
          "iopub.status.busy": "2023-10-22T18:26:02.804173Z",
          "iopub.execute_input": "2023-10-22T18:26:02.805153Z",
          "iopub.status.idle": "2023-10-22T18:26:02.998764Z",
          "shell.execute_reply.started": "2023-10-22T18:26:02.805103Z",
          "shell.execute_reply": "2023-10-22T18:26:02.997499Z"
        },
        "trusted": true,
        "id": "MuY38kIMOT73"
      },
      "execution_count": 6,
      "outputs": []
    },
    {
      "cell_type": "markdown",
      "source": [
        "### Variable Definitions\n",
        "* **Suburb** : Suburb\n",
        "* **Address**: Address\n",
        "* **Rooms**: Number of rooms\n",
        "* **Price**: Price in Australian dollars\n",
        "* **Method**:\n",
        "  * **S**: Property sold\n",
        "  * **SP**: Property sold prior\n",
        "  * **PI**: Property passed in\n",
        "  * **PN**: Sold prior not disclosed\n",
        "  * **SN**: Sold not disclosed\n",
        "  * **NB**: No bid\n",
        "  * **VB**: Vendor bid\n",
        "  * **W**: Withdrawn prior to auction\n",
        "  * **SA**: Sold after auction\n",
        "  * **SS**: Sold after auction price not disclosed\n",
        "  * **N/A**: Price or highest bid not available\n",
        "* **Type**:\n",
        "  * **br**: Bedroom(s)\n",
        "  * **h**: House, cottage, villa, semi, terrace\n",
        "  * **u**: unit, duplex\n",
        "  * **t**: townhouse\n",
        "  * **dev** site: Development site\n",
        "  * **o res**: Other residential\n",
        "* **SellerG**: Real Estate Agent\n",
        "* **Date**: Date sold\n",
        "* **Distance**: Distance from CBD in kilometers\n",
        "* **Regionname**: General Region (West, North West, North, North east …etc)\n",
        "* **Propertycount**: Number of properties that exist in the suburb.\n",
        "* **Bedroom2** : Scraped # of Bedrooms (from different source)\n",
        "* **Bathroom**: Number of Bathrooms\n",
        "* **Car**: Number of carspots\n",
        "* **Landsize**: Land Size in Metres\n",
        "* **BuildingArea**: Building Size in Metres\n",
        "* **YearBuilt**: Year the house was built\n",
        "* **CouncilArea**: Governing council for the area\n",
        "* **Lattitude**: Self explanitory\n",
        "* **Longtitude**: Self explanitory"
      ],
      "metadata": {
        "id": "SVjpFc0BOT76"
      }
    },
    {
      "cell_type": "code",
      "source": [
        "# Check first 5 rows\n",
        "df.head()"
      ],
      "metadata": {
        "execution": {
          "iopub.status.busy": "2023-10-22T18:26:05.558015Z",
          "iopub.execute_input": "2023-10-22T18:26:05.558612Z",
          "iopub.status.idle": "2023-10-22T18:26:05.582235Z",
          "shell.execute_reply.started": "2023-10-22T18:26:05.558570Z",
          "shell.execute_reply": "2023-10-22T18:26:05.580906Z"
        },
        "trusted": true,
        "colab": {
          "base_uri": "https://localhost:8080/",
          "height": 330
        },
        "id": "APT5txpuOT8A",
        "outputId": "c513be2e-3457-4b5a-9a02-fa79a65afeda"
      },
      "execution_count": 7,
      "outputs": [
        {
          "output_type": "execute_result",
          "data": {
            "text/plain": [
              "       Suburb             Address  Rooms Type      Price Method SellerG       Date  Distance  Postcode  Bedroom2  Bathroom  Car  Landsize  BuildingArea  YearBuilt         CouncilArea  Lattitude  Longtitude             Regionname  Propertycount\n",
              "0  Abbotsford       68 Studley St   2.00    h        NaN     SS  Jellis  3/09/2016      2.50   3067.00      2.00      1.00 1.00    126.00           NaN        NaN  Yarra City Council     -37.80      145.00  Northern Metropolitan        4019.00\n",
              "1  Abbotsford        85 Turner St   2.00    h 1480000.00      S  Biggin  3/12/2016      2.50   3067.00      2.00      1.00 1.00    202.00           NaN        NaN  Yarra City Council     -37.80      145.00  Northern Metropolitan        4019.00\n",
              "2  Abbotsford     25 Bloomburg St   2.00    h 1035000.00      S  Biggin  4/02/2016      2.50   3067.00      2.00      1.00 0.00    156.00         79.00    1900.00  Yarra City Council     -37.81      144.99  Northern Metropolitan        4019.00\n",
              "3  Abbotsford  18/659 Victoria St   3.00    u        NaN     VB  Rounds  4/02/2016      2.50   3067.00      3.00      2.00 1.00      0.00           NaN        NaN  Yarra City Council     -37.81      145.01  Northern Metropolitan        4019.00\n",
              "4  Abbotsford        5 Charles St   3.00    h 1465000.00     SP  Biggin  4/03/2017      2.50   3067.00      3.00      2.00 0.00    134.00        150.00    1900.00  Yarra City Council     -37.81      144.99  Northern Metropolitan        4019.00"
            ],
            "text/html": [
              "\n",
              "  <div id=\"df-2e3240bb-d75c-4325-885e-0f1186a8da9a\" class=\"colab-df-container\">\n",
              "    <div>\n",
              "<style scoped>\n",
              "    .dataframe tbody tr th:only-of-type {\n",
              "        vertical-align: middle;\n",
              "    }\n",
              "\n",
              "    .dataframe tbody tr th {\n",
              "        vertical-align: top;\n",
              "    }\n",
              "\n",
              "    .dataframe thead th {\n",
              "        text-align: right;\n",
              "    }\n",
              "</style>\n",
              "<table border=\"1\" class=\"dataframe\">\n",
              "  <thead>\n",
              "    <tr style=\"text-align: right;\">\n",
              "      <th></th>\n",
              "      <th>Suburb</th>\n",
              "      <th>Address</th>\n",
              "      <th>Rooms</th>\n",
              "      <th>Type</th>\n",
              "      <th>Price</th>\n",
              "      <th>Method</th>\n",
              "      <th>SellerG</th>\n",
              "      <th>Date</th>\n",
              "      <th>Distance</th>\n",
              "      <th>Postcode</th>\n",
              "      <th>Bedroom2</th>\n",
              "      <th>Bathroom</th>\n",
              "      <th>Car</th>\n",
              "      <th>Landsize</th>\n",
              "      <th>BuildingArea</th>\n",
              "      <th>YearBuilt</th>\n",
              "      <th>CouncilArea</th>\n",
              "      <th>Lattitude</th>\n",
              "      <th>Longtitude</th>\n",
              "      <th>Regionname</th>\n",
              "      <th>Propertycount</th>\n",
              "    </tr>\n",
              "  </thead>\n",
              "  <tbody>\n",
              "    <tr>\n",
              "      <th>0</th>\n",
              "      <td>Abbotsford</td>\n",
              "      <td>68 Studley St</td>\n",
              "      <td>2.00</td>\n",
              "      <td>h</td>\n",
              "      <td>NaN</td>\n",
              "      <td>SS</td>\n",
              "      <td>Jellis</td>\n",
              "      <td>3/09/2016</td>\n",
              "      <td>2.50</td>\n",
              "      <td>3067.00</td>\n",
              "      <td>2.00</td>\n",
              "      <td>1.00</td>\n",
              "      <td>1.00</td>\n",
              "      <td>126.00</td>\n",
              "      <td>NaN</td>\n",
              "      <td>NaN</td>\n",
              "      <td>Yarra City Council</td>\n",
              "      <td>-37.80</td>\n",
              "      <td>145.00</td>\n",
              "      <td>Northern Metropolitan</td>\n",
              "      <td>4019.00</td>\n",
              "    </tr>\n",
              "    <tr>\n",
              "      <th>1</th>\n",
              "      <td>Abbotsford</td>\n",
              "      <td>85 Turner St</td>\n",
              "      <td>2.00</td>\n",
              "      <td>h</td>\n",
              "      <td>1480000.00</td>\n",
              "      <td>S</td>\n",
              "      <td>Biggin</td>\n",
              "      <td>3/12/2016</td>\n",
              "      <td>2.50</td>\n",
              "      <td>3067.00</td>\n",
              "      <td>2.00</td>\n",
              "      <td>1.00</td>\n",
              "      <td>1.00</td>\n",
              "      <td>202.00</td>\n",
              "      <td>NaN</td>\n",
              "      <td>NaN</td>\n",
              "      <td>Yarra City Council</td>\n",
              "      <td>-37.80</td>\n",
              "      <td>145.00</td>\n",
              "      <td>Northern Metropolitan</td>\n",
              "      <td>4019.00</td>\n",
              "    </tr>\n",
              "    <tr>\n",
              "      <th>2</th>\n",
              "      <td>Abbotsford</td>\n",
              "      <td>25 Bloomburg St</td>\n",
              "      <td>2.00</td>\n",
              "      <td>h</td>\n",
              "      <td>1035000.00</td>\n",
              "      <td>S</td>\n",
              "      <td>Biggin</td>\n",
              "      <td>4/02/2016</td>\n",
              "      <td>2.50</td>\n",
              "      <td>3067.00</td>\n",
              "      <td>2.00</td>\n",
              "      <td>1.00</td>\n",
              "      <td>0.00</td>\n",
              "      <td>156.00</td>\n",
              "      <td>79.00</td>\n",
              "      <td>1900.00</td>\n",
              "      <td>Yarra City Council</td>\n",
              "      <td>-37.81</td>\n",
              "      <td>144.99</td>\n",
              "      <td>Northern Metropolitan</td>\n",
              "      <td>4019.00</td>\n",
              "    </tr>\n",
              "    <tr>\n",
              "      <th>3</th>\n",
              "      <td>Abbotsford</td>\n",
              "      <td>18/659 Victoria St</td>\n",
              "      <td>3.00</td>\n",
              "      <td>u</td>\n",
              "      <td>NaN</td>\n",
              "      <td>VB</td>\n",
              "      <td>Rounds</td>\n",
              "      <td>4/02/2016</td>\n",
              "      <td>2.50</td>\n",
              "      <td>3067.00</td>\n",
              "      <td>3.00</td>\n",
              "      <td>2.00</td>\n",
              "      <td>1.00</td>\n",
              "      <td>0.00</td>\n",
              "      <td>NaN</td>\n",
              "      <td>NaN</td>\n",
              "      <td>Yarra City Council</td>\n",
              "      <td>-37.81</td>\n",
              "      <td>145.01</td>\n",
              "      <td>Northern Metropolitan</td>\n",
              "      <td>4019.00</td>\n",
              "    </tr>\n",
              "    <tr>\n",
              "      <th>4</th>\n",
              "      <td>Abbotsford</td>\n",
              "      <td>5 Charles St</td>\n",
              "      <td>3.00</td>\n",
              "      <td>h</td>\n",
              "      <td>1465000.00</td>\n",
              "      <td>SP</td>\n",
              "      <td>Biggin</td>\n",
              "      <td>4/03/2017</td>\n",
              "      <td>2.50</td>\n",
              "      <td>3067.00</td>\n",
              "      <td>3.00</td>\n",
              "      <td>2.00</td>\n",
              "      <td>0.00</td>\n",
              "      <td>134.00</td>\n",
              "      <td>150.00</td>\n",
              "      <td>1900.00</td>\n",
              "      <td>Yarra City Council</td>\n",
              "      <td>-37.81</td>\n",
              "      <td>144.99</td>\n",
              "      <td>Northern Metropolitan</td>\n",
              "      <td>4019.00</td>\n",
              "    </tr>\n",
              "  </tbody>\n",
              "</table>\n",
              "</div>\n",
              "    <div class=\"colab-df-buttons\">\n",
              "\n",
              "  <div class=\"colab-df-container\">\n",
              "    <button class=\"colab-df-convert\" onclick=\"convertToInteractive('df-2e3240bb-d75c-4325-885e-0f1186a8da9a')\"\n",
              "            title=\"Convert this dataframe to an interactive table.\"\n",
              "            style=\"display:none;\">\n",
              "\n",
              "  <svg xmlns=\"http://www.w3.org/2000/svg\" height=\"24px\" viewBox=\"0 -960 960 960\">\n",
              "    <path d=\"M120-120v-720h720v720H120Zm60-500h600v-160H180v160Zm220 220h160v-160H400v160Zm0 220h160v-160H400v160ZM180-400h160v-160H180v160Zm440 0h160v-160H620v160ZM180-180h160v-160H180v160Zm440 0h160v-160H620v160Z\"/>\n",
              "  </svg>\n",
              "    </button>\n",
              "\n",
              "  <style>\n",
              "    .colab-df-container {\n",
              "      display:flex;\n",
              "      gap: 12px;\n",
              "    }\n",
              "\n",
              "    .colab-df-convert {\n",
              "      background-color: #E8F0FE;\n",
              "      border: none;\n",
              "      border-radius: 50%;\n",
              "      cursor: pointer;\n",
              "      display: none;\n",
              "      fill: #1967D2;\n",
              "      height: 32px;\n",
              "      padding: 0 0 0 0;\n",
              "      width: 32px;\n",
              "    }\n",
              "\n",
              "    .colab-df-convert:hover {\n",
              "      background-color: #E2EBFA;\n",
              "      box-shadow: 0px 1px 2px rgba(60, 64, 67, 0.3), 0px 1px 3px 1px rgba(60, 64, 67, 0.15);\n",
              "      fill: #174EA6;\n",
              "    }\n",
              "\n",
              "    .colab-df-buttons div {\n",
              "      margin-bottom: 4px;\n",
              "    }\n",
              "\n",
              "    [theme=dark] .colab-df-convert {\n",
              "      background-color: #3B4455;\n",
              "      fill: #D2E3FC;\n",
              "    }\n",
              "\n",
              "    [theme=dark] .colab-df-convert:hover {\n",
              "      background-color: #434B5C;\n",
              "      box-shadow: 0px 1px 3px 1px rgba(0, 0, 0, 0.15);\n",
              "      filter: drop-shadow(0px 1px 2px rgba(0, 0, 0, 0.3));\n",
              "      fill: #FFFFFF;\n",
              "    }\n",
              "  </style>\n",
              "\n",
              "    <script>\n",
              "      const buttonEl =\n",
              "        document.querySelector('#df-2e3240bb-d75c-4325-885e-0f1186a8da9a button.colab-df-convert');\n",
              "      buttonEl.style.display =\n",
              "        google.colab.kernel.accessAllowed ? 'block' : 'none';\n",
              "\n",
              "      async function convertToInteractive(key) {\n",
              "        const element = document.querySelector('#df-2e3240bb-d75c-4325-885e-0f1186a8da9a');\n",
              "        const dataTable =\n",
              "          await google.colab.kernel.invokeFunction('convertToInteractive',\n",
              "                                                    [key], {});\n",
              "        if (!dataTable) return;\n",
              "\n",
              "        const docLinkHtml = 'Like what you see? Visit the ' +\n",
              "          '<a target=\"_blank\" href=https://colab.research.google.com/notebooks/data_table.ipynb>data table notebook</a>'\n",
              "          + ' to learn more about interactive tables.';\n",
              "        element.innerHTML = '';\n",
              "        dataTable['output_type'] = 'display_data';\n",
              "        await google.colab.output.renderOutput(dataTable, element);\n",
              "        const docLink = document.createElement('div');\n",
              "        docLink.innerHTML = docLinkHtml;\n",
              "        element.appendChild(docLink);\n",
              "      }\n",
              "    </script>\n",
              "  </div>\n",
              "\n",
              "\n",
              "<div id=\"df-4b7e626c-21b5-4731-a2ff-26de5bf2a758\">\n",
              "  <button class=\"colab-df-quickchart\" onclick=\"quickchart('df-4b7e626c-21b5-4731-a2ff-26de5bf2a758')\"\n",
              "            title=\"Suggest charts.\"\n",
              "            style=\"display:none;\">\n",
              "\n",
              "<svg xmlns=\"http://www.w3.org/2000/svg\" height=\"24px\"viewBox=\"0 0 24 24\"\n",
              "     width=\"24px\">\n",
              "    <g>\n",
              "        <path d=\"M19 3H5c-1.1 0-2 .9-2 2v14c0 1.1.9 2 2 2h14c1.1 0 2-.9 2-2V5c0-1.1-.9-2-2-2zM9 17H7v-7h2v7zm4 0h-2V7h2v10zm4 0h-2v-4h2v4z\"/>\n",
              "    </g>\n",
              "</svg>\n",
              "  </button>\n",
              "\n",
              "<style>\n",
              "  .colab-df-quickchart {\n",
              "      --bg-color: #E8F0FE;\n",
              "      --fill-color: #1967D2;\n",
              "      --hover-bg-color: #E2EBFA;\n",
              "      --hover-fill-color: #174EA6;\n",
              "      --disabled-fill-color: #AAA;\n",
              "      --disabled-bg-color: #DDD;\n",
              "  }\n",
              "\n",
              "  [theme=dark] .colab-df-quickchart {\n",
              "      --bg-color: #3B4455;\n",
              "      --fill-color: #D2E3FC;\n",
              "      --hover-bg-color: #434B5C;\n",
              "      --hover-fill-color: #FFFFFF;\n",
              "      --disabled-bg-color: #3B4455;\n",
              "      --disabled-fill-color: #666;\n",
              "  }\n",
              "\n",
              "  .colab-df-quickchart {\n",
              "    background-color: var(--bg-color);\n",
              "    border: none;\n",
              "    border-radius: 50%;\n",
              "    cursor: pointer;\n",
              "    display: none;\n",
              "    fill: var(--fill-color);\n",
              "    height: 32px;\n",
              "    padding: 0;\n",
              "    width: 32px;\n",
              "  }\n",
              "\n",
              "  .colab-df-quickchart:hover {\n",
              "    background-color: var(--hover-bg-color);\n",
              "    box-shadow: 0 1px 2px rgba(60, 64, 67, 0.3), 0 1px 3px 1px rgba(60, 64, 67, 0.15);\n",
              "    fill: var(--button-hover-fill-color);\n",
              "  }\n",
              "\n",
              "  .colab-df-quickchart-complete:disabled,\n",
              "  .colab-df-quickchart-complete:disabled:hover {\n",
              "    background-color: var(--disabled-bg-color);\n",
              "    fill: var(--disabled-fill-color);\n",
              "    box-shadow: none;\n",
              "  }\n",
              "\n",
              "  .colab-df-spinner {\n",
              "    border: 2px solid var(--fill-color);\n",
              "    border-color: transparent;\n",
              "    border-bottom-color: var(--fill-color);\n",
              "    animation:\n",
              "      spin 1s steps(1) infinite;\n",
              "  }\n",
              "\n",
              "  @keyframes spin {\n",
              "    0% {\n",
              "      border-color: transparent;\n",
              "      border-bottom-color: var(--fill-color);\n",
              "      border-left-color: var(--fill-color);\n",
              "    }\n",
              "    20% {\n",
              "      border-color: transparent;\n",
              "      border-left-color: var(--fill-color);\n",
              "      border-top-color: var(--fill-color);\n",
              "    }\n",
              "    30% {\n",
              "      border-color: transparent;\n",
              "      border-left-color: var(--fill-color);\n",
              "      border-top-color: var(--fill-color);\n",
              "      border-right-color: var(--fill-color);\n",
              "    }\n",
              "    40% {\n",
              "      border-color: transparent;\n",
              "      border-right-color: var(--fill-color);\n",
              "      border-top-color: var(--fill-color);\n",
              "    }\n",
              "    60% {\n",
              "      border-color: transparent;\n",
              "      border-right-color: var(--fill-color);\n",
              "    }\n",
              "    80% {\n",
              "      border-color: transparent;\n",
              "      border-right-color: var(--fill-color);\n",
              "      border-bottom-color: var(--fill-color);\n",
              "    }\n",
              "    90% {\n",
              "      border-color: transparent;\n",
              "      border-bottom-color: var(--fill-color);\n",
              "    }\n",
              "  }\n",
              "</style>\n",
              "\n",
              "  <script>\n",
              "    async function quickchart(key) {\n",
              "      const quickchartButtonEl =\n",
              "        document.querySelector('#' + key + ' button');\n",
              "      quickchartButtonEl.disabled = true;  // To prevent multiple clicks.\n",
              "      quickchartButtonEl.classList.add('colab-df-spinner');\n",
              "      try {\n",
              "        const charts = await google.colab.kernel.invokeFunction(\n",
              "            'suggestCharts', [key], {});\n",
              "      } catch (error) {\n",
              "        console.error('Error during call to suggestCharts:', error);\n",
              "      }\n",
              "      quickchartButtonEl.classList.remove('colab-df-spinner');\n",
              "      quickchartButtonEl.classList.add('colab-df-quickchart-complete');\n",
              "    }\n",
              "    (() => {\n",
              "      let quickchartButtonEl =\n",
              "        document.querySelector('#df-4b7e626c-21b5-4731-a2ff-26de5bf2a758 button');\n",
              "      quickchartButtonEl.style.display =\n",
              "        google.colab.kernel.accessAllowed ? 'block' : 'none';\n",
              "    })();\n",
              "  </script>\n",
              "</div>\n",
              "    </div>\n",
              "  </div>\n"
            ]
          },
          "metadata": {},
          "execution_count": 7
        }
      ]
    },
    {
      "cell_type": "code",
      "source": [
        "# Check last 5 rows\n",
        "df.tail()"
      ],
      "metadata": {
        "execution": {
          "iopub.status.busy": "2023-10-22T18:02:12.738785Z",
          "iopub.execute_input": "2023-10-22T18:02:12.739257Z",
          "iopub.status.idle": "2023-10-22T18:02:12.761624Z",
          "shell.execute_reply.started": "2023-10-22T18:02:12.739221Z",
          "shell.execute_reply": "2023-10-22T18:02:12.760429Z"
        },
        "trusted": true,
        "colab": {
          "base_uri": "https://localhost:8080/",
          "height": 365
        },
        "id": "5gtyrtpqOT8E",
        "outputId": "63a13c9b-7e44-4921-a4c3-55f0e4b4b246"
      },
      "execution_count": 8,
      "outputs": [
        {
          "output_type": "execute_result",
          "data": {
            "text/plain": [
              "               Suburb                Address  Rooms Type      Price Method     SellerG        Date  Distance  Postcode  Bedroom2  Bathroom  Car  Landsize  BuildingArea  YearBuilt             CouncilArea  Lattitude  Longtitude             Regionname  Propertycount\n",
              "7260  North Melbourne     11/368 Dryburgh St   1.00    u  358000.00     SP      Jellis  27/11/2016      2.30   3051.00      1.00      1.00 1.00    649.00         43.00    1970.00  Melbourne City Council     -37.80      144.94  Northern Metropolitan        6821.00\n",
              "7261  North Melbourne  103/171 Flemington Rd   1.00    u  320000.00      S        W.B.  27/11/2016      2.30   3051.00      1.00      1.00 1.00      0.00         45.00    1975.00  Melbourne City Council     -37.80      144.95  Northern Metropolitan        6821.00\n",
              "7262  North Melbourne         10 Munster Tce   3.00    t 1000000.00     VB      Nelson  27/11/2016      2.30   3051.00      3.00      2.00 1.00     61.00        170.00    1920.00  Melbourne City Council     -37.80      144.94  Northern Metropolitan        6821.00\n",
              "7263  North Melbourne        203/150 Peel St   2.00    u  598000.00      S  Alexkarbon  27/11/2016      2.30   3051.00      2.00      1.00 1.00      0.00         85.00    2005.00  Melbourne City Council     -37.80      144.96  Northern Metropolitan        6821.00\n",
              "7264  North Melbourne       2/101 Leveson St    NaN  NaN        NaN    NaN         NaN         NaN       NaN       NaN       NaN       NaN  NaN       NaN           NaN        NaN                     NaN        NaN         NaN                    NaN            NaN"
            ],
            "text/html": [
              "\n",
              "  <div id=\"df-aee88724-177e-4d37-998a-3d70de3394fb\" class=\"colab-df-container\">\n",
              "    <div>\n",
              "<style scoped>\n",
              "    .dataframe tbody tr th:only-of-type {\n",
              "        vertical-align: middle;\n",
              "    }\n",
              "\n",
              "    .dataframe tbody tr th {\n",
              "        vertical-align: top;\n",
              "    }\n",
              "\n",
              "    .dataframe thead th {\n",
              "        text-align: right;\n",
              "    }\n",
              "</style>\n",
              "<table border=\"1\" class=\"dataframe\">\n",
              "  <thead>\n",
              "    <tr style=\"text-align: right;\">\n",
              "      <th></th>\n",
              "      <th>Suburb</th>\n",
              "      <th>Address</th>\n",
              "      <th>Rooms</th>\n",
              "      <th>Type</th>\n",
              "      <th>Price</th>\n",
              "      <th>Method</th>\n",
              "      <th>SellerG</th>\n",
              "      <th>Date</th>\n",
              "      <th>Distance</th>\n",
              "      <th>Postcode</th>\n",
              "      <th>Bedroom2</th>\n",
              "      <th>Bathroom</th>\n",
              "      <th>Car</th>\n",
              "      <th>Landsize</th>\n",
              "      <th>BuildingArea</th>\n",
              "      <th>YearBuilt</th>\n",
              "      <th>CouncilArea</th>\n",
              "      <th>Lattitude</th>\n",
              "      <th>Longtitude</th>\n",
              "      <th>Regionname</th>\n",
              "      <th>Propertycount</th>\n",
              "    </tr>\n",
              "  </thead>\n",
              "  <tbody>\n",
              "    <tr>\n",
              "      <th>7260</th>\n",
              "      <td>North Melbourne</td>\n",
              "      <td>11/368 Dryburgh St</td>\n",
              "      <td>1.00</td>\n",
              "      <td>u</td>\n",
              "      <td>358000.00</td>\n",
              "      <td>SP</td>\n",
              "      <td>Jellis</td>\n",
              "      <td>27/11/2016</td>\n",
              "      <td>2.30</td>\n",
              "      <td>3051.00</td>\n",
              "      <td>1.00</td>\n",
              "      <td>1.00</td>\n",
              "      <td>1.00</td>\n",
              "      <td>649.00</td>\n",
              "      <td>43.00</td>\n",
              "      <td>1970.00</td>\n",
              "      <td>Melbourne City Council</td>\n",
              "      <td>-37.80</td>\n",
              "      <td>144.94</td>\n",
              "      <td>Northern Metropolitan</td>\n",
              "      <td>6821.00</td>\n",
              "    </tr>\n",
              "    <tr>\n",
              "      <th>7261</th>\n",
              "      <td>North Melbourne</td>\n",
              "      <td>103/171 Flemington Rd</td>\n",
              "      <td>1.00</td>\n",
              "      <td>u</td>\n",
              "      <td>320000.00</td>\n",
              "      <td>S</td>\n",
              "      <td>W.B.</td>\n",
              "      <td>27/11/2016</td>\n",
              "      <td>2.30</td>\n",
              "      <td>3051.00</td>\n",
              "      <td>1.00</td>\n",
              "      <td>1.00</td>\n",
              "      <td>1.00</td>\n",
              "      <td>0.00</td>\n",
              "      <td>45.00</td>\n",
              "      <td>1975.00</td>\n",
              "      <td>Melbourne City Council</td>\n",
              "      <td>-37.80</td>\n",
              "      <td>144.95</td>\n",
              "      <td>Northern Metropolitan</td>\n",
              "      <td>6821.00</td>\n",
              "    </tr>\n",
              "    <tr>\n",
              "      <th>7262</th>\n",
              "      <td>North Melbourne</td>\n",
              "      <td>10 Munster Tce</td>\n",
              "      <td>3.00</td>\n",
              "      <td>t</td>\n",
              "      <td>1000000.00</td>\n",
              "      <td>VB</td>\n",
              "      <td>Nelson</td>\n",
              "      <td>27/11/2016</td>\n",
              "      <td>2.30</td>\n",
              "      <td>3051.00</td>\n",
              "      <td>3.00</td>\n",
              "      <td>2.00</td>\n",
              "      <td>1.00</td>\n",
              "      <td>61.00</td>\n",
              "      <td>170.00</td>\n",
              "      <td>1920.00</td>\n",
              "      <td>Melbourne City Council</td>\n",
              "      <td>-37.80</td>\n",
              "      <td>144.94</td>\n",
              "      <td>Northern Metropolitan</td>\n",
              "      <td>6821.00</td>\n",
              "    </tr>\n",
              "    <tr>\n",
              "      <th>7263</th>\n",
              "      <td>North Melbourne</td>\n",
              "      <td>203/150 Peel St</td>\n",
              "      <td>2.00</td>\n",
              "      <td>u</td>\n",
              "      <td>598000.00</td>\n",
              "      <td>S</td>\n",
              "      <td>Alexkarbon</td>\n",
              "      <td>27/11/2016</td>\n",
              "      <td>2.30</td>\n",
              "      <td>3051.00</td>\n",
              "      <td>2.00</td>\n",
              "      <td>1.00</td>\n",
              "      <td>1.00</td>\n",
              "      <td>0.00</td>\n",
              "      <td>85.00</td>\n",
              "      <td>2005.00</td>\n",
              "      <td>Melbourne City Council</td>\n",
              "      <td>-37.80</td>\n",
              "      <td>144.96</td>\n",
              "      <td>Northern Metropolitan</td>\n",
              "      <td>6821.00</td>\n",
              "    </tr>\n",
              "    <tr>\n",
              "      <th>7264</th>\n",
              "      <td>North Melbourne</td>\n",
              "      <td>2/101 Leveson St</td>\n",
              "      <td>NaN</td>\n",
              "      <td>NaN</td>\n",
              "      <td>NaN</td>\n",
              "      <td>NaN</td>\n",
              "      <td>NaN</td>\n",
              "      <td>NaN</td>\n",
              "      <td>NaN</td>\n",
              "      <td>NaN</td>\n",
              "      <td>NaN</td>\n",
              "      <td>NaN</td>\n",
              "      <td>NaN</td>\n",
              "      <td>NaN</td>\n",
              "      <td>NaN</td>\n",
              "      <td>NaN</td>\n",
              "      <td>NaN</td>\n",
              "      <td>NaN</td>\n",
              "      <td>NaN</td>\n",
              "      <td>NaN</td>\n",
              "      <td>NaN</td>\n",
              "    </tr>\n",
              "  </tbody>\n",
              "</table>\n",
              "</div>\n",
              "    <div class=\"colab-df-buttons\">\n",
              "\n",
              "  <div class=\"colab-df-container\">\n",
              "    <button class=\"colab-df-convert\" onclick=\"convertToInteractive('df-aee88724-177e-4d37-998a-3d70de3394fb')\"\n",
              "            title=\"Convert this dataframe to an interactive table.\"\n",
              "            style=\"display:none;\">\n",
              "\n",
              "  <svg xmlns=\"http://www.w3.org/2000/svg\" height=\"24px\" viewBox=\"0 -960 960 960\">\n",
              "    <path d=\"M120-120v-720h720v720H120Zm60-500h600v-160H180v160Zm220 220h160v-160H400v160Zm0 220h160v-160H400v160ZM180-400h160v-160H180v160Zm440 0h160v-160H620v160ZM180-180h160v-160H180v160Zm440 0h160v-160H620v160Z\"/>\n",
              "  </svg>\n",
              "    </button>\n",
              "\n",
              "  <style>\n",
              "    .colab-df-container {\n",
              "      display:flex;\n",
              "      gap: 12px;\n",
              "    }\n",
              "\n",
              "    .colab-df-convert {\n",
              "      background-color: #E8F0FE;\n",
              "      border: none;\n",
              "      border-radius: 50%;\n",
              "      cursor: pointer;\n",
              "      display: none;\n",
              "      fill: #1967D2;\n",
              "      height: 32px;\n",
              "      padding: 0 0 0 0;\n",
              "      width: 32px;\n",
              "    }\n",
              "\n",
              "    .colab-df-convert:hover {\n",
              "      background-color: #E2EBFA;\n",
              "      box-shadow: 0px 1px 2px rgba(60, 64, 67, 0.3), 0px 1px 3px 1px rgba(60, 64, 67, 0.15);\n",
              "      fill: #174EA6;\n",
              "    }\n",
              "\n",
              "    .colab-df-buttons div {\n",
              "      margin-bottom: 4px;\n",
              "    }\n",
              "\n",
              "    [theme=dark] .colab-df-convert {\n",
              "      background-color: #3B4455;\n",
              "      fill: #D2E3FC;\n",
              "    }\n",
              "\n",
              "    [theme=dark] .colab-df-convert:hover {\n",
              "      background-color: #434B5C;\n",
              "      box-shadow: 0px 1px 3px 1px rgba(0, 0, 0, 0.15);\n",
              "      filter: drop-shadow(0px 1px 2px rgba(0, 0, 0, 0.3));\n",
              "      fill: #FFFFFF;\n",
              "    }\n",
              "  </style>\n",
              "\n",
              "    <script>\n",
              "      const buttonEl =\n",
              "        document.querySelector('#df-aee88724-177e-4d37-998a-3d70de3394fb button.colab-df-convert');\n",
              "      buttonEl.style.display =\n",
              "        google.colab.kernel.accessAllowed ? 'block' : 'none';\n",
              "\n",
              "      async function convertToInteractive(key) {\n",
              "        const element = document.querySelector('#df-aee88724-177e-4d37-998a-3d70de3394fb');\n",
              "        const dataTable =\n",
              "          await google.colab.kernel.invokeFunction('convertToInteractive',\n",
              "                                                    [key], {});\n",
              "        if (!dataTable) return;\n",
              "\n",
              "        const docLinkHtml = 'Like what you see? Visit the ' +\n",
              "          '<a target=\"_blank\" href=https://colab.research.google.com/notebooks/data_table.ipynb>data table notebook</a>'\n",
              "          + ' to learn more about interactive tables.';\n",
              "        element.innerHTML = '';\n",
              "        dataTable['output_type'] = 'display_data';\n",
              "        await google.colab.output.renderOutput(dataTable, element);\n",
              "        const docLink = document.createElement('div');\n",
              "        docLink.innerHTML = docLinkHtml;\n",
              "        element.appendChild(docLink);\n",
              "      }\n",
              "    </script>\n",
              "  </div>\n",
              "\n",
              "\n",
              "<div id=\"df-e3e5794f-5949-454e-8771-1565ea4e716a\">\n",
              "  <button class=\"colab-df-quickchart\" onclick=\"quickchart('df-e3e5794f-5949-454e-8771-1565ea4e716a')\"\n",
              "            title=\"Suggest charts.\"\n",
              "            style=\"display:none;\">\n",
              "\n",
              "<svg xmlns=\"http://www.w3.org/2000/svg\" height=\"24px\"viewBox=\"0 0 24 24\"\n",
              "     width=\"24px\">\n",
              "    <g>\n",
              "        <path d=\"M19 3H5c-1.1 0-2 .9-2 2v14c0 1.1.9 2 2 2h14c1.1 0 2-.9 2-2V5c0-1.1-.9-2-2-2zM9 17H7v-7h2v7zm4 0h-2V7h2v10zm4 0h-2v-4h2v4z\"/>\n",
              "    </g>\n",
              "</svg>\n",
              "  </button>\n",
              "\n",
              "<style>\n",
              "  .colab-df-quickchart {\n",
              "      --bg-color: #E8F0FE;\n",
              "      --fill-color: #1967D2;\n",
              "      --hover-bg-color: #E2EBFA;\n",
              "      --hover-fill-color: #174EA6;\n",
              "      --disabled-fill-color: #AAA;\n",
              "      --disabled-bg-color: #DDD;\n",
              "  }\n",
              "\n",
              "  [theme=dark] .colab-df-quickchart {\n",
              "      --bg-color: #3B4455;\n",
              "      --fill-color: #D2E3FC;\n",
              "      --hover-bg-color: #434B5C;\n",
              "      --hover-fill-color: #FFFFFF;\n",
              "      --disabled-bg-color: #3B4455;\n",
              "      --disabled-fill-color: #666;\n",
              "  }\n",
              "\n",
              "  .colab-df-quickchart {\n",
              "    background-color: var(--bg-color);\n",
              "    border: none;\n",
              "    border-radius: 50%;\n",
              "    cursor: pointer;\n",
              "    display: none;\n",
              "    fill: var(--fill-color);\n",
              "    height: 32px;\n",
              "    padding: 0;\n",
              "    width: 32px;\n",
              "  }\n",
              "\n",
              "  .colab-df-quickchart:hover {\n",
              "    background-color: var(--hover-bg-color);\n",
              "    box-shadow: 0 1px 2px rgba(60, 64, 67, 0.3), 0 1px 3px 1px rgba(60, 64, 67, 0.15);\n",
              "    fill: var(--button-hover-fill-color);\n",
              "  }\n",
              "\n",
              "  .colab-df-quickchart-complete:disabled,\n",
              "  .colab-df-quickchart-complete:disabled:hover {\n",
              "    background-color: var(--disabled-bg-color);\n",
              "    fill: var(--disabled-fill-color);\n",
              "    box-shadow: none;\n",
              "  }\n",
              "\n",
              "  .colab-df-spinner {\n",
              "    border: 2px solid var(--fill-color);\n",
              "    border-color: transparent;\n",
              "    border-bottom-color: var(--fill-color);\n",
              "    animation:\n",
              "      spin 1s steps(1) infinite;\n",
              "  }\n",
              "\n",
              "  @keyframes spin {\n",
              "    0% {\n",
              "      border-color: transparent;\n",
              "      border-bottom-color: var(--fill-color);\n",
              "      border-left-color: var(--fill-color);\n",
              "    }\n",
              "    20% {\n",
              "      border-color: transparent;\n",
              "      border-left-color: var(--fill-color);\n",
              "      border-top-color: var(--fill-color);\n",
              "    }\n",
              "    30% {\n",
              "      border-color: transparent;\n",
              "      border-left-color: var(--fill-color);\n",
              "      border-top-color: var(--fill-color);\n",
              "      border-right-color: var(--fill-color);\n",
              "    }\n",
              "    40% {\n",
              "      border-color: transparent;\n",
              "      border-right-color: var(--fill-color);\n",
              "      border-top-color: var(--fill-color);\n",
              "    }\n",
              "    60% {\n",
              "      border-color: transparent;\n",
              "      border-right-color: var(--fill-color);\n",
              "    }\n",
              "    80% {\n",
              "      border-color: transparent;\n",
              "      border-right-color: var(--fill-color);\n",
              "      border-bottom-color: var(--fill-color);\n",
              "    }\n",
              "    90% {\n",
              "      border-color: transparent;\n",
              "      border-bottom-color: var(--fill-color);\n",
              "    }\n",
              "  }\n",
              "</style>\n",
              "\n",
              "  <script>\n",
              "    async function quickchart(key) {\n",
              "      const quickchartButtonEl =\n",
              "        document.querySelector('#' + key + ' button');\n",
              "      quickchartButtonEl.disabled = true;  // To prevent multiple clicks.\n",
              "      quickchartButtonEl.classList.add('colab-df-spinner');\n",
              "      try {\n",
              "        const charts = await google.colab.kernel.invokeFunction(\n",
              "            'suggestCharts', [key], {});\n",
              "      } catch (error) {\n",
              "        console.error('Error during call to suggestCharts:', error);\n",
              "      }\n",
              "      quickchartButtonEl.classList.remove('colab-df-spinner');\n",
              "      quickchartButtonEl.classList.add('colab-df-quickchart-complete');\n",
              "    }\n",
              "    (() => {\n",
              "      let quickchartButtonEl =\n",
              "        document.querySelector('#df-e3e5794f-5949-454e-8771-1565ea4e716a button');\n",
              "      quickchartButtonEl.style.display =\n",
              "        google.colab.kernel.accessAllowed ? 'block' : 'none';\n",
              "    })();\n",
              "  </script>\n",
              "</div>\n",
              "    </div>\n",
              "  </div>\n"
            ]
          },
          "metadata": {},
          "execution_count": 8
        }
      ]
    },
    {
      "cell_type": "code",
      "source": [
        "# Check total observations and columns\n",
        "df.shape"
      ],
      "metadata": {
        "execution": {
          "iopub.status.busy": "2023-10-22T18:02:15.317451Z",
          "iopub.execute_input": "2023-10-22T18:02:15.318237Z",
          "iopub.status.idle": "2023-10-22T18:02:15.327497Z",
          "shell.execute_reply.started": "2023-10-22T18:02:15.318188Z",
          "shell.execute_reply": "2023-10-22T18:02:15.326100Z"
        },
        "trusted": true,
        "colab": {
          "base_uri": "https://localhost:8080/"
        },
        "id": "mxZXEVBMOT8G",
        "outputId": "24c7de41-5453-49c9-9c74-276cbff2e635"
      },
      "execution_count": 9,
      "outputs": [
        {
          "output_type": "execute_result",
          "data": {
            "text/plain": [
              "(7265, 21)"
            ]
          },
          "metadata": {},
          "execution_count": 9
        }
      ]
    },
    {
      "cell_type": "code",
      "source": [
        "# Information about DataFrame\n",
        "df.info()"
      ],
      "metadata": {
        "execution": {
          "iopub.status.busy": "2023-10-22T18:02:17.239101Z",
          "iopub.execute_input": "2023-10-22T18:02:17.239527Z",
          "iopub.status.idle": "2023-10-22T18:02:17.296015Z",
          "shell.execute_reply.started": "2023-10-22T18:02:17.239495Z",
          "shell.execute_reply": "2023-10-22T18:02:17.294868Z"
        },
        "trusted": true,
        "colab": {
          "base_uri": "https://localhost:8080/"
        },
        "id": "o44o6e2GOT8K",
        "outputId": "07185e2e-77d4-4d15-dfd7-e1ef6f7eb601"
      },
      "execution_count": 10,
      "outputs": [
        {
          "output_type": "stream",
          "name": "stdout",
          "text": [
            "<class 'pandas.core.frame.DataFrame'>\n",
            "RangeIndex: 7265 entries, 0 to 7264\n",
            "Data columns (total 21 columns):\n",
            " #   Column         Non-Null Count  Dtype  \n",
            "---  ------         --------------  -----  \n",
            " 0   Suburb         7265 non-null   object \n",
            " 1   Address        7265 non-null   object \n",
            " 2   Rooms          7264 non-null   float64\n",
            " 3   Type           7264 non-null   object \n",
            " 4   Price          5590 non-null   float64\n",
            " 5   Method         7264 non-null   object \n",
            " 6   SellerG        7264 non-null   object \n",
            " 7   Date           7264 non-null   object \n",
            " 8   Distance       7264 non-null   float64\n",
            " 9   Postcode       7264 non-null   float64\n",
            " 10  Bedroom2       5693 non-null   float64\n",
            " 11  Bathroom       5693 non-null   float64\n",
            " 12  Car            5693 non-null   float64\n",
            " 13  Landsize       5687 non-null   float64\n",
            " 14  BuildingArea   3291 non-null   float64\n",
            " 15  YearBuilt      3738 non-null   float64\n",
            " 16  CouncilArea    7264 non-null   object \n",
            " 17  Lattitude      5719 non-null   float64\n",
            " 18  Longtitude     5719 non-null   float64\n",
            " 19  Regionname     7264 non-null   object \n",
            " 20  Propertycount  7264 non-null   float64\n",
            "dtypes: float64(13), object(8)\n",
            "memory usage: 1.2+ MB\n"
          ]
        }
      ]
    },
    {
      "cell_type": "code",
      "source": [
        "# Check missing values\n",
        "df.isnull().sum()"
      ],
      "metadata": {
        "execution": {
          "iopub.status.busy": "2023-10-22T18:26:10.319248Z",
          "iopub.execute_input": "2023-10-22T18:26:10.320602Z",
          "iopub.status.idle": "2023-10-22T18:26:10.361297Z",
          "shell.execute_reply.started": "2023-10-22T18:26:10.320546Z",
          "shell.execute_reply": "2023-10-22T18:26:10.359940Z"
        },
        "trusted": true,
        "colab": {
          "base_uri": "https://localhost:8080/"
        },
        "id": "l6pRJbstOT8T",
        "outputId": "e22aee81-ba88-4041-cdc9-073021f619c7"
      },
      "execution_count": 11,
      "outputs": [
        {
          "output_type": "execute_result",
          "data": {
            "text/plain": [
              "Suburb              0\n",
              "Address             0\n",
              "Rooms               1\n",
              "Type                1\n",
              "Price            1675\n",
              "Method              1\n",
              "SellerG             1\n",
              "Date                1\n",
              "Distance            1\n",
              "Postcode            1\n",
              "Bedroom2         1572\n",
              "Bathroom         1572\n",
              "Car              1572\n",
              "Landsize         1578\n",
              "BuildingArea     3974\n",
              "YearBuilt        3527\n",
              "CouncilArea         1\n",
              "Lattitude        1546\n",
              "Longtitude       1546\n",
              "Regionname          1\n",
              "Propertycount       1\n",
              "dtype: int64"
            ]
          },
          "metadata": {},
          "execution_count": 11
        }
      ]
    },
    {
      "cell_type": "code",
      "source": [
        "# Check descriptive statistics\n",
        "df.describe().T"
      ],
      "metadata": {
        "execution": {
          "iopub.status.busy": "2023-10-22T18:26:11.794371Z",
          "iopub.execute_input": "2023-10-22T18:26:11.794789Z",
          "iopub.status.idle": "2023-10-22T18:26:11.874765Z",
          "shell.execute_reply.started": "2023-10-22T18:26:11.794759Z",
          "shell.execute_reply": "2023-10-22T18:26:11.873421Z"
        },
        "trusted": true,
        "colab": {
          "base_uri": "https://localhost:8080/",
          "height": 457
        },
        "id": "4t0NVskKOT8W",
        "outputId": "e067ab9b-6825-41ef-c33b-27fd3e317b78"
      },
      "execution_count": 12,
      "outputs": [
        {
          "output_type": "execute_result",
          "data": {
            "text/plain": [
              "                count       mean       std      min       25%       50%        75%        max\n",
              "Rooms         7264.00       3.00      1.00     1.00      2.00      3.00       4.00      10.00\n",
              "Price         5590.00 1153092.34 704071.01 85000.00 675000.00 953000.00 1440000.00 6500000.00\n",
              "Distance      7264.00       8.99      3.33     1.60      6.40      9.20      11.40      15.00\n",
              "Postcode      7264.00    3102.13     58.72  3000.00   3046.00   3103.00    3147.00    3206.00\n",
              "Bedroom2      5693.00       2.93      1.04     0.00      2.00      3.00       3.00      30.00\n",
              "Bathroom      5693.00       1.60      0.76     0.00      1.00      1.00       2.00      12.00\n",
              "Car           5693.00       1.61      0.98     0.00      1.00      2.00       2.00      26.00\n",
              "Landsize      5687.00     463.60   1228.22     0.00    158.00    379.00     645.00   75100.00\n",
              "BuildingArea  3291.00     157.92    170.54     0.00     93.00    131.00     190.00    6791.00\n",
              "YearBuilt     3738.00    1959.26     37.81  1830.00   1930.00   1960.00    1996.00    2106.00\n",
              "Lattitude     5719.00     -37.82      0.06   -37.95    -37.87    -37.81     -37.77     -37.69\n",
              "Longtitude    5719.00     145.00      0.07   144.81    144.94    145.01     145.06     145.14\n",
              "Propertycount 7264.00    6947.08   3171.56   394.00   4605.00   6567.00    9028.00   17496.00"
            ],
            "text/html": [
              "\n",
              "  <div id=\"df-fdc08f10-e505-4e14-a33b-915a4d256532\" class=\"colab-df-container\">\n",
              "    <div>\n",
              "<style scoped>\n",
              "    .dataframe tbody tr th:only-of-type {\n",
              "        vertical-align: middle;\n",
              "    }\n",
              "\n",
              "    .dataframe tbody tr th {\n",
              "        vertical-align: top;\n",
              "    }\n",
              "\n",
              "    .dataframe thead th {\n",
              "        text-align: right;\n",
              "    }\n",
              "</style>\n",
              "<table border=\"1\" class=\"dataframe\">\n",
              "  <thead>\n",
              "    <tr style=\"text-align: right;\">\n",
              "      <th></th>\n",
              "      <th>count</th>\n",
              "      <th>mean</th>\n",
              "      <th>std</th>\n",
              "      <th>min</th>\n",
              "      <th>25%</th>\n",
              "      <th>50%</th>\n",
              "      <th>75%</th>\n",
              "      <th>max</th>\n",
              "    </tr>\n",
              "  </thead>\n",
              "  <tbody>\n",
              "    <tr>\n",
              "      <th>Rooms</th>\n",
              "      <td>7264.00</td>\n",
              "      <td>3.00</td>\n",
              "      <td>1.00</td>\n",
              "      <td>1.00</td>\n",
              "      <td>2.00</td>\n",
              "      <td>3.00</td>\n",
              "      <td>4.00</td>\n",
              "      <td>10.00</td>\n",
              "    </tr>\n",
              "    <tr>\n",
              "      <th>Price</th>\n",
              "      <td>5590.00</td>\n",
              "      <td>1153092.34</td>\n",
              "      <td>704071.01</td>\n",
              "      <td>85000.00</td>\n",
              "      <td>675000.00</td>\n",
              "      <td>953000.00</td>\n",
              "      <td>1440000.00</td>\n",
              "      <td>6500000.00</td>\n",
              "    </tr>\n",
              "    <tr>\n",
              "      <th>Distance</th>\n",
              "      <td>7264.00</td>\n",
              "      <td>8.99</td>\n",
              "      <td>3.33</td>\n",
              "      <td>1.60</td>\n",
              "      <td>6.40</td>\n",
              "      <td>9.20</td>\n",
              "      <td>11.40</td>\n",
              "      <td>15.00</td>\n",
              "    </tr>\n",
              "    <tr>\n",
              "      <th>Postcode</th>\n",
              "      <td>7264.00</td>\n",
              "      <td>3102.13</td>\n",
              "      <td>58.72</td>\n",
              "      <td>3000.00</td>\n",
              "      <td>3046.00</td>\n",
              "      <td>3103.00</td>\n",
              "      <td>3147.00</td>\n",
              "      <td>3206.00</td>\n",
              "    </tr>\n",
              "    <tr>\n",
              "      <th>Bedroom2</th>\n",
              "      <td>5693.00</td>\n",
              "      <td>2.93</td>\n",
              "      <td>1.04</td>\n",
              "      <td>0.00</td>\n",
              "      <td>2.00</td>\n",
              "      <td>3.00</td>\n",
              "      <td>3.00</td>\n",
              "      <td>30.00</td>\n",
              "    </tr>\n",
              "    <tr>\n",
              "      <th>Bathroom</th>\n",
              "      <td>5693.00</td>\n",
              "      <td>1.60</td>\n",
              "      <td>0.76</td>\n",
              "      <td>0.00</td>\n",
              "      <td>1.00</td>\n",
              "      <td>1.00</td>\n",
              "      <td>2.00</td>\n",
              "      <td>12.00</td>\n",
              "    </tr>\n",
              "    <tr>\n",
              "      <th>Car</th>\n",
              "      <td>5693.00</td>\n",
              "      <td>1.61</td>\n",
              "      <td>0.98</td>\n",
              "      <td>0.00</td>\n",
              "      <td>1.00</td>\n",
              "      <td>2.00</td>\n",
              "      <td>2.00</td>\n",
              "      <td>26.00</td>\n",
              "    </tr>\n",
              "    <tr>\n",
              "      <th>Landsize</th>\n",
              "      <td>5687.00</td>\n",
              "      <td>463.60</td>\n",
              "      <td>1228.22</td>\n",
              "      <td>0.00</td>\n",
              "      <td>158.00</td>\n",
              "      <td>379.00</td>\n",
              "      <td>645.00</td>\n",
              "      <td>75100.00</td>\n",
              "    </tr>\n",
              "    <tr>\n",
              "      <th>BuildingArea</th>\n",
              "      <td>3291.00</td>\n",
              "      <td>157.92</td>\n",
              "      <td>170.54</td>\n",
              "      <td>0.00</td>\n",
              "      <td>93.00</td>\n",
              "      <td>131.00</td>\n",
              "      <td>190.00</td>\n",
              "      <td>6791.00</td>\n",
              "    </tr>\n",
              "    <tr>\n",
              "      <th>YearBuilt</th>\n",
              "      <td>3738.00</td>\n",
              "      <td>1959.26</td>\n",
              "      <td>37.81</td>\n",
              "      <td>1830.00</td>\n",
              "      <td>1930.00</td>\n",
              "      <td>1960.00</td>\n",
              "      <td>1996.00</td>\n",
              "      <td>2106.00</td>\n",
              "    </tr>\n",
              "    <tr>\n",
              "      <th>Lattitude</th>\n",
              "      <td>5719.00</td>\n",
              "      <td>-37.82</td>\n",
              "      <td>0.06</td>\n",
              "      <td>-37.95</td>\n",
              "      <td>-37.87</td>\n",
              "      <td>-37.81</td>\n",
              "      <td>-37.77</td>\n",
              "      <td>-37.69</td>\n",
              "    </tr>\n",
              "    <tr>\n",
              "      <th>Longtitude</th>\n",
              "      <td>5719.00</td>\n",
              "      <td>145.00</td>\n",
              "      <td>0.07</td>\n",
              "      <td>144.81</td>\n",
              "      <td>144.94</td>\n",
              "      <td>145.01</td>\n",
              "      <td>145.06</td>\n",
              "      <td>145.14</td>\n",
              "    </tr>\n",
              "    <tr>\n",
              "      <th>Propertycount</th>\n",
              "      <td>7264.00</td>\n",
              "      <td>6947.08</td>\n",
              "      <td>3171.56</td>\n",
              "      <td>394.00</td>\n",
              "      <td>4605.00</td>\n",
              "      <td>6567.00</td>\n",
              "      <td>9028.00</td>\n",
              "      <td>17496.00</td>\n",
              "    </tr>\n",
              "  </tbody>\n",
              "</table>\n",
              "</div>\n",
              "    <div class=\"colab-df-buttons\">\n",
              "\n",
              "  <div class=\"colab-df-container\">\n",
              "    <button class=\"colab-df-convert\" onclick=\"convertToInteractive('df-fdc08f10-e505-4e14-a33b-915a4d256532')\"\n",
              "            title=\"Convert this dataframe to an interactive table.\"\n",
              "            style=\"display:none;\">\n",
              "\n",
              "  <svg xmlns=\"http://www.w3.org/2000/svg\" height=\"24px\" viewBox=\"0 -960 960 960\">\n",
              "    <path d=\"M120-120v-720h720v720H120Zm60-500h600v-160H180v160Zm220 220h160v-160H400v160Zm0 220h160v-160H400v160ZM180-400h160v-160H180v160Zm440 0h160v-160H620v160ZM180-180h160v-160H180v160Zm440 0h160v-160H620v160Z\"/>\n",
              "  </svg>\n",
              "    </button>\n",
              "\n",
              "  <style>\n",
              "    .colab-df-container {\n",
              "      display:flex;\n",
              "      gap: 12px;\n",
              "    }\n",
              "\n",
              "    .colab-df-convert {\n",
              "      background-color: #E8F0FE;\n",
              "      border: none;\n",
              "      border-radius: 50%;\n",
              "      cursor: pointer;\n",
              "      display: none;\n",
              "      fill: #1967D2;\n",
              "      height: 32px;\n",
              "      padding: 0 0 0 0;\n",
              "      width: 32px;\n",
              "    }\n",
              "\n",
              "    .colab-df-convert:hover {\n",
              "      background-color: #E2EBFA;\n",
              "      box-shadow: 0px 1px 2px rgba(60, 64, 67, 0.3), 0px 1px 3px 1px rgba(60, 64, 67, 0.15);\n",
              "      fill: #174EA6;\n",
              "    }\n",
              "\n",
              "    .colab-df-buttons div {\n",
              "      margin-bottom: 4px;\n",
              "    }\n",
              "\n",
              "    [theme=dark] .colab-df-convert {\n",
              "      background-color: #3B4455;\n",
              "      fill: #D2E3FC;\n",
              "    }\n",
              "\n",
              "    [theme=dark] .colab-df-convert:hover {\n",
              "      background-color: #434B5C;\n",
              "      box-shadow: 0px 1px 3px 1px rgba(0, 0, 0, 0.15);\n",
              "      filter: drop-shadow(0px 1px 2px rgba(0, 0, 0, 0.3));\n",
              "      fill: #FFFFFF;\n",
              "    }\n",
              "  </style>\n",
              "\n",
              "    <script>\n",
              "      const buttonEl =\n",
              "        document.querySelector('#df-fdc08f10-e505-4e14-a33b-915a4d256532 button.colab-df-convert');\n",
              "      buttonEl.style.display =\n",
              "        google.colab.kernel.accessAllowed ? 'block' : 'none';\n",
              "\n",
              "      async function convertToInteractive(key) {\n",
              "        const element = document.querySelector('#df-fdc08f10-e505-4e14-a33b-915a4d256532');\n",
              "        const dataTable =\n",
              "          await google.colab.kernel.invokeFunction('convertToInteractive',\n",
              "                                                    [key], {});\n",
              "        if (!dataTable) return;\n",
              "\n",
              "        const docLinkHtml = 'Like what you see? Visit the ' +\n",
              "          '<a target=\"_blank\" href=https://colab.research.google.com/notebooks/data_table.ipynb>data table notebook</a>'\n",
              "          + ' to learn more about interactive tables.';\n",
              "        element.innerHTML = '';\n",
              "        dataTable['output_type'] = 'display_data';\n",
              "        await google.colab.output.renderOutput(dataTable, element);\n",
              "        const docLink = document.createElement('div');\n",
              "        docLink.innerHTML = docLinkHtml;\n",
              "        element.appendChild(docLink);\n",
              "      }\n",
              "    </script>\n",
              "  </div>\n",
              "\n",
              "\n",
              "<div id=\"df-ac91c84e-b6fb-453d-950e-a85a0684b983\">\n",
              "  <button class=\"colab-df-quickchart\" onclick=\"quickchart('df-ac91c84e-b6fb-453d-950e-a85a0684b983')\"\n",
              "            title=\"Suggest charts.\"\n",
              "            style=\"display:none;\">\n",
              "\n",
              "<svg xmlns=\"http://www.w3.org/2000/svg\" height=\"24px\"viewBox=\"0 0 24 24\"\n",
              "     width=\"24px\">\n",
              "    <g>\n",
              "        <path d=\"M19 3H5c-1.1 0-2 .9-2 2v14c0 1.1.9 2 2 2h14c1.1 0 2-.9 2-2V5c0-1.1-.9-2-2-2zM9 17H7v-7h2v7zm4 0h-2V7h2v10zm4 0h-2v-4h2v4z\"/>\n",
              "    </g>\n",
              "</svg>\n",
              "  </button>\n",
              "\n",
              "<style>\n",
              "  .colab-df-quickchart {\n",
              "      --bg-color: #E8F0FE;\n",
              "      --fill-color: #1967D2;\n",
              "      --hover-bg-color: #E2EBFA;\n",
              "      --hover-fill-color: #174EA6;\n",
              "      --disabled-fill-color: #AAA;\n",
              "      --disabled-bg-color: #DDD;\n",
              "  }\n",
              "\n",
              "  [theme=dark] .colab-df-quickchart {\n",
              "      --bg-color: #3B4455;\n",
              "      --fill-color: #D2E3FC;\n",
              "      --hover-bg-color: #434B5C;\n",
              "      --hover-fill-color: #FFFFFF;\n",
              "      --disabled-bg-color: #3B4455;\n",
              "      --disabled-fill-color: #666;\n",
              "  }\n",
              "\n",
              "  .colab-df-quickchart {\n",
              "    background-color: var(--bg-color);\n",
              "    border: none;\n",
              "    border-radius: 50%;\n",
              "    cursor: pointer;\n",
              "    display: none;\n",
              "    fill: var(--fill-color);\n",
              "    height: 32px;\n",
              "    padding: 0;\n",
              "    width: 32px;\n",
              "  }\n",
              "\n",
              "  .colab-df-quickchart:hover {\n",
              "    background-color: var(--hover-bg-color);\n",
              "    box-shadow: 0 1px 2px rgba(60, 64, 67, 0.3), 0 1px 3px 1px rgba(60, 64, 67, 0.15);\n",
              "    fill: var(--button-hover-fill-color);\n",
              "  }\n",
              "\n",
              "  .colab-df-quickchart-complete:disabled,\n",
              "  .colab-df-quickchart-complete:disabled:hover {\n",
              "    background-color: var(--disabled-bg-color);\n",
              "    fill: var(--disabled-fill-color);\n",
              "    box-shadow: none;\n",
              "  }\n",
              "\n",
              "  .colab-df-spinner {\n",
              "    border: 2px solid var(--fill-color);\n",
              "    border-color: transparent;\n",
              "    border-bottom-color: var(--fill-color);\n",
              "    animation:\n",
              "      spin 1s steps(1) infinite;\n",
              "  }\n",
              "\n",
              "  @keyframes spin {\n",
              "    0% {\n",
              "      border-color: transparent;\n",
              "      border-bottom-color: var(--fill-color);\n",
              "      border-left-color: var(--fill-color);\n",
              "    }\n",
              "    20% {\n",
              "      border-color: transparent;\n",
              "      border-left-color: var(--fill-color);\n",
              "      border-top-color: var(--fill-color);\n",
              "    }\n",
              "    30% {\n",
              "      border-color: transparent;\n",
              "      border-left-color: var(--fill-color);\n",
              "      border-top-color: var(--fill-color);\n",
              "      border-right-color: var(--fill-color);\n",
              "    }\n",
              "    40% {\n",
              "      border-color: transparent;\n",
              "      border-right-color: var(--fill-color);\n",
              "      border-top-color: var(--fill-color);\n",
              "    }\n",
              "    60% {\n",
              "      border-color: transparent;\n",
              "      border-right-color: var(--fill-color);\n",
              "    }\n",
              "    80% {\n",
              "      border-color: transparent;\n",
              "      border-right-color: var(--fill-color);\n",
              "      border-bottom-color: var(--fill-color);\n",
              "    }\n",
              "    90% {\n",
              "      border-color: transparent;\n",
              "      border-bottom-color: var(--fill-color);\n",
              "    }\n",
              "  }\n",
              "</style>\n",
              "\n",
              "  <script>\n",
              "    async function quickchart(key) {\n",
              "      const quickchartButtonEl =\n",
              "        document.querySelector('#' + key + ' button');\n",
              "      quickchartButtonEl.disabled = true;  // To prevent multiple clicks.\n",
              "      quickchartButtonEl.classList.add('colab-df-spinner');\n",
              "      try {\n",
              "        const charts = await google.colab.kernel.invokeFunction(\n",
              "            'suggestCharts', [key], {});\n",
              "      } catch (error) {\n",
              "        console.error('Error during call to suggestCharts:', error);\n",
              "      }\n",
              "      quickchartButtonEl.classList.remove('colab-df-spinner');\n",
              "      quickchartButtonEl.classList.add('colab-df-quickchart-complete');\n",
              "    }\n",
              "    (() => {\n",
              "      let quickchartButtonEl =\n",
              "        document.querySelector('#df-ac91c84e-b6fb-453d-950e-a85a0684b983 button');\n",
              "      quickchartButtonEl.style.display =\n",
              "        google.colab.kernel.accessAllowed ? 'block' : 'none';\n",
              "    })();\n",
              "  </script>\n",
              "</div>\n",
              "    </div>\n",
              "  </div>\n"
            ]
          },
          "metadata": {},
          "execution_count": 12
        }
      ]
    },
    {
      "cell_type": "code",
      "source": [
        "duplicate_rows = df[df.duplicated()]"
      ],
      "metadata": {
        "execution": {
          "iopub.status.busy": "2023-10-22T18:26:14.325953Z",
          "iopub.execute_input": "2023-10-22T18:26:14.326628Z",
          "iopub.status.idle": "2023-10-22T18:26:14.390102Z",
          "shell.execute_reply.started": "2023-10-22T18:26:14.326593Z",
          "shell.execute_reply": "2023-10-22T18:26:14.388614Z"
        },
        "trusted": true,
        "id": "tuj32yv8OT8b"
      },
      "execution_count": 13,
      "outputs": []
    },
    {
      "cell_type": "code",
      "source": [
        "df = df.drop_duplicates()"
      ],
      "metadata": {
        "execution": {
          "iopub.status.busy": "2023-10-22T18:26:15.984288Z",
          "iopub.execute_input": "2023-10-22T18:26:15.984708Z",
          "iopub.status.idle": "2023-10-22T18:26:16.057404Z",
          "shell.execute_reply.started": "2023-10-22T18:26:15.984679Z",
          "shell.execute_reply": "2023-10-22T18:26:16.056277Z"
        },
        "trusted": true,
        "id": "lve5SKMyOT8e"
      },
      "execution_count": 14,
      "outputs": []
    },
    {
      "cell_type": "code",
      "source": [
        "df.shape"
      ],
      "metadata": {
        "execution": {
          "iopub.status.busy": "2023-10-22T18:26:17.087855Z",
          "iopub.execute_input": "2023-10-22T18:26:17.088253Z",
          "iopub.status.idle": "2023-10-22T18:26:17.096759Z",
          "shell.execute_reply.started": "2023-10-22T18:26:17.088224Z",
          "shell.execute_reply": "2023-10-22T18:26:17.095341Z"
        },
        "trusted": true,
        "colab": {
          "base_uri": "https://localhost:8080/"
        },
        "id": "1dHyfFdrOT8f",
        "outputId": "c7b64bbb-bf10-4624-bd46-5254f62f8c8a"
      },
      "execution_count": 15,
      "outputs": [
        {
          "output_type": "execute_result",
          "data": {
            "text/plain": [
              "(7265, 21)"
            ]
          },
          "metadata": {},
          "execution_count": 15
        }
      ]
    },
    {
      "cell_type": "code",
      "source": [
        "df.dropna(subset=['Price'], inplace=True)"
      ],
      "metadata": {
        "execution": {
          "iopub.status.busy": "2023-10-22T18:26:18.833616Z",
          "iopub.execute_input": "2023-10-22T18:26:18.834073Z",
          "iopub.status.idle": "2023-10-22T18:26:18.848555Z",
          "shell.execute_reply.started": "2023-10-22T18:26:18.834039Z",
          "shell.execute_reply": "2023-10-22T18:26:18.847205Z"
        },
        "trusted": true,
        "id": "Rmj87EbrOT8g"
      },
      "execution_count": 16,
      "outputs": []
    },
    {
      "cell_type": "code",
      "source": [
        "df.shape"
      ],
      "metadata": {
        "execution": {
          "iopub.status.busy": "2023-10-22T18:26:20.148633Z",
          "iopub.execute_input": "2023-10-22T18:26:20.149091Z",
          "iopub.status.idle": "2023-10-22T18:26:20.157765Z",
          "shell.execute_reply.started": "2023-10-22T18:26:20.149058Z",
          "shell.execute_reply": "2023-10-22T18:26:20.156488Z"
        },
        "trusted": true,
        "colab": {
          "base_uri": "https://localhost:8080/"
        },
        "id": "VVzJhbPyOT8h",
        "outputId": "7c606b2d-1c42-4ab6-957c-63559b683d80"
      },
      "execution_count": 17,
      "outputs": [
        {
          "output_type": "execute_result",
          "data": {
            "text/plain": [
              "(5590, 21)"
            ]
          },
          "metadata": {},
          "execution_count": 17
        }
      ]
    },
    {
      "cell_type": "code",
      "source": [
        "# Unique values for all columns\n",
        "for col in df.columns:\n",
        "  print(f\"{col} have {df[col].nunique()} unique values.\\n\")"
      ],
      "metadata": {
        "execution": {
          "iopub.status.busy": "2023-10-22T18:26:21.893457Z",
          "iopub.execute_input": "2023-10-22T18:26:21.894052Z",
          "iopub.status.idle": "2023-10-22T18:26:21.938170Z",
          "shell.execute_reply.started": "2023-10-22T18:26:21.894006Z",
          "shell.execute_reply": "2023-10-22T18:26:21.937168Z"
        },
        "trusted": true,
        "colab": {
          "base_uri": "https://localhost:8080/"
        },
        "id": "tZsd6ieVOT8i",
        "outputId": "b6f3e6f4-05a2-4b1c-9644-4ca04a7a1139"
      },
      "execution_count": 18,
      "outputs": [
        {
          "output_type": "stream",
          "name": "stdout",
          "text": [
            "Suburb have 76 unique values.\n",
            "\n",
            "Address have 5541 unique values.\n",
            "\n",
            "Rooms have 9 unique values.\n",
            "\n",
            "Type have 3 unique values.\n",
            "\n",
            "Price have 1494 unique values.\n",
            "\n",
            "Method have 5 unique values.\n",
            "\n",
            "SellerG have 170 unique values.\n",
            "\n",
            "Date have 35 unique values.\n",
            "\n",
            "Distance have 60 unique values.\n",
            "\n",
            "Postcode have 63 unique values.\n",
            "\n",
            "Bedroom2 have 10 unique values.\n",
            "\n",
            "Bathroom have 8 unique values.\n",
            "\n",
            "Car have 9 unique values.\n",
            "\n",
            "Landsize have 994 unique values.\n",
            "\n",
            "BuildingArea have 380 unique values.\n",
            "\n",
            "YearBuilt have 120 unique values.\n",
            "\n",
            "CouncilArea have 18 unique values.\n",
            "\n",
            "Lattitude have 1894 unique values.\n",
            "\n",
            "Longtitude have 2165 unique values.\n",
            "\n",
            "Regionname have 4 unique values.\n",
            "\n",
            "Propertycount have 76 unique values.\n",
            "\n"
          ]
        }
      ]
    },
    {
      "cell_type": "code",
      "source": [
        "# Catching categorical columns\n",
        "\n",
        "def grab_col_names(dataframe, cat_th=10, car_th=20):\n",
        "    \"\"\"\n",
        "    Veri setindeki kategorik, numerik ve kategorik fakat kardinal değişkenlerin isimlerini verir.\n",
        "    Not: Kategorik değişkenlerin içerisine numerik görünümlü kategorik değişkenler de dahildir.\n",
        "\n",
        "    Parameters\n",
        "    ------\n",
        "        dataframe: dataframe\n",
        "            Degisken isimleri alinmak istenilen dataframe\n",
        "\n",
        "        cat_th: int, optional\n",
        "            Numerik fakat kategorik olan degiskenler için sinif esik degeri\n",
        "\n",
        "        car_th: int, optional\n",
        "            Kategorik fakat kardinal degiskenler için sinif esik degeri\n",
        "\n",
        "    Returns\n",
        "    ------\n",
        "        cat_cols: list\n",
        "            Kategorik degisken listesi\n",
        "\n",
        "        num_cols: list\n",
        "            Numerik degisken listesi\n",
        "\n",
        "\n",
        "    \"\"\"\n",
        "    # cat_cols, cat_but_car\n",
        "    cat_cols = [col for col in dataframe.columns if dataframe[col].dtypes == \"O\"]\n",
        "    num_but_cat = [col for col in dataframe.columns if dataframe[col].nunique() < cat_th and\n",
        "                  dataframe[col].dtypes != \"O\"]\n",
        "    cat_but_car = [col for col in dataframe.columns if dataframe[col].nunique() > car_th and\n",
        "                  dataframe[col].dtypes ==\"O\"]\n",
        "\n",
        "    cat_cols = cat_cols + num_but_cat\n",
        "    cat_cols = [col for col in cat_cols if col not in cat_but_car]\n",
        "\n",
        "    # num_cols\n",
        "    num_cols = [col for col in dataframe.columns if dataframe[col].dtypes != \"O\"]\n",
        "\n",
        "    num_cols = [col for col in num_cols if col not in num_but_cat]\n",
        "\n",
        "    print(f\"Observations: {dataframe.shape[0]}\")\n",
        "    print(f\"Variables: {dataframe.shape[1]}\")\n",
        "    print(f\"Categorical Columns: {len(cat_cols)}\")\n",
        "    print(f\"Numerical Columns: {len(num_cols)}\")\n",
        "    print(f\"Categorical but Cardinal Columns: {len(cat_but_car)}\")\n",
        "    print(f\"Numerical but Categorical Columns: {len(num_but_cat)}\")\n",
        "\n",
        "    return cat_cols, num_cols, cat_but_car"
      ],
      "metadata": {
        "execution": {
          "iopub.status.busy": "2023-10-22T18:26:23.769100Z",
          "iopub.execute_input": "2023-10-22T18:26:23.770633Z",
          "iopub.status.idle": "2023-10-22T18:26:23.791727Z",
          "shell.execute_reply.started": "2023-10-22T18:26:23.770566Z",
          "shell.execute_reply": "2023-10-22T18:26:23.789666Z"
        },
        "trusted": true,
        "id": "D035UOhiOT8k"
      },
      "execution_count": 19,
      "outputs": []
    },
    {
      "cell_type": "code",
      "source": [
        "cat_cols, num_cols, cat_but_car = grab_col_names(df, car_th=20)"
      ],
      "metadata": {
        "execution": {
          "iopub.status.busy": "2023-10-22T18:26:25.192233Z",
          "iopub.execute_input": "2023-10-22T18:26:25.193806Z",
          "iopub.status.idle": "2023-10-22T18:26:25.265947Z",
          "shell.execute_reply.started": "2023-10-22T18:26:25.193764Z",
          "shell.execute_reply": "2023-10-22T18:26:25.265126Z"
        },
        "trusted": true,
        "colab": {
          "base_uri": "https://localhost:8080/"
        },
        "id": "w0QLgW02OT8m",
        "outputId": "ad5e85d0-92cb-4aaf-fe5f-934b4a5ba075"
      },
      "execution_count": 20,
      "outputs": [
        {
          "output_type": "stream",
          "name": "stdout",
          "text": [
            "Observations: 5590\n",
            "Variables: 21\n",
            "Categorical Columns: 7\n",
            "Numerical Columns: 10\n",
            "Categorical but Cardinal Columns: 4\n",
            "Numerical but Categorical Columns: 3\n"
          ]
        }
      ]
    },
    {
      "cell_type": "code",
      "source": [
        "for col in cat_cols:\n",
        "    print(f\"{col} - have {df[col].nunique()} unique values\")"
      ],
      "metadata": {
        "execution": {
          "iopub.status.busy": "2023-10-22T18:26:26.456716Z",
          "iopub.execute_input": "2023-10-22T18:26:26.458120Z",
          "iopub.status.idle": "2023-10-22T18:26:26.473017Z",
          "shell.execute_reply.started": "2023-10-22T18:26:26.458070Z",
          "shell.execute_reply": "2023-10-22T18:26:26.471414Z"
        },
        "trusted": true,
        "colab": {
          "base_uri": "https://localhost:8080/"
        },
        "id": "LyrQ8CHPOT8n",
        "outputId": "1f882add-d381-4077-b624-36e0fcc8beb4"
      },
      "execution_count": 21,
      "outputs": [
        {
          "output_type": "stream",
          "name": "stdout",
          "text": [
            "Type - have 3 unique values\n",
            "Method - have 5 unique values\n",
            "CouncilArea - have 18 unique values\n",
            "Regionname - have 4 unique values\n",
            "Rooms - have 9 unique values\n",
            "Bathroom - have 8 unique values\n",
            "Car - have 9 unique values\n"
          ]
        }
      ]
    },
    {
      "cell_type": "code",
      "source": [
        "for col in num_cols:\n",
        "    print(f\"{col} - have {df[col].nunique()} unique values\")"
      ],
      "metadata": {
        "execution": {
          "iopub.status.busy": "2023-10-22T18:26:28.021566Z",
          "iopub.execute_input": "2023-10-22T18:26:28.022034Z",
          "iopub.status.idle": "2023-10-22T18:26:28.036129Z",
          "shell.execute_reply.started": "2023-10-22T18:26:28.021990Z",
          "shell.execute_reply": "2023-10-22T18:26:28.034881Z"
        },
        "trusted": true,
        "colab": {
          "base_uri": "https://localhost:8080/"
        },
        "id": "rvSNo6CoOT8o",
        "outputId": "77d04ea7-2272-4e15-cfa7-a744522a47b2"
      },
      "execution_count": 22,
      "outputs": [
        {
          "output_type": "stream",
          "name": "stdout",
          "text": [
            "Price - have 1494 unique values\n",
            "Distance - have 60 unique values\n",
            "Postcode - have 63 unique values\n",
            "Bedroom2 - have 10 unique values\n",
            "Landsize - have 994 unique values\n",
            "BuildingArea - have 380 unique values\n",
            "YearBuilt - have 120 unique values\n",
            "Lattitude - have 1894 unique values\n",
            "Longtitude - have 2165 unique values\n",
            "Propertycount - have 76 unique values\n"
          ]
        }
      ]
    },
    {
      "cell_type": "code",
      "source": [
        "for col in cat_but_car:\n",
        "    print(f\"{col} - have {df[col].nunique()} unique values\")"
      ],
      "metadata": {
        "execution": {
          "iopub.status.busy": "2023-10-22T18:26:29.731408Z",
          "iopub.execute_input": "2023-10-22T18:26:29.731824Z",
          "iopub.status.idle": "2023-10-22T18:26:29.757041Z",
          "shell.execute_reply.started": "2023-10-22T18:26:29.731783Z",
          "shell.execute_reply": "2023-10-22T18:26:29.755660Z"
        },
        "trusted": true,
        "colab": {
          "base_uri": "https://localhost:8080/"
        },
        "id": "humDW5AdOT8p",
        "outputId": "4df1ea81-2db6-40b0-d47f-3c6f42997ec2"
      },
      "execution_count": 23,
      "outputs": [
        {
          "output_type": "stream",
          "name": "stdout",
          "text": [
            "Suburb - have 76 unique values\n",
            "Address - have 5541 unique values\n",
            "SellerG - have 170 unique values\n",
            "Date - have 35 unique values\n"
          ]
        }
      ]
    },
    {
      "cell_type": "code",
      "source": [
        "# Seperating train-test\n",
        "\n",
        "X = df.drop(\"Price\", axis=1)\n",
        "y = df[\"Price\"]\n",
        "\n",
        "X_train, X_test, y_train, y_test = train_test_split(X, y, test_size=0.25, shuffle=True)"
      ],
      "metadata": {
        "execution": {
          "iopub.status.busy": "2023-10-22T18:26:31.692448Z",
          "iopub.execute_input": "2023-10-22T18:26:31.692941Z",
          "iopub.status.idle": "2023-10-22T18:26:31.726666Z",
          "shell.execute_reply.started": "2023-10-22T18:26:31.692896Z",
          "shell.execute_reply": "2023-10-22T18:26:31.725308Z"
        },
        "trusted": true,
        "id": "0m0nsRT9OT8q"
      },
      "execution_count": 24,
      "outputs": []
    },
    {
      "cell_type": "code",
      "source": [
        "X_train.shape"
      ],
      "metadata": {
        "execution": {
          "iopub.status.busy": "2023-10-22T18:26:35.107215Z",
          "iopub.execute_input": "2023-10-22T18:26:35.107709Z",
          "iopub.status.idle": "2023-10-22T18:26:35.116051Z",
          "shell.execute_reply.started": "2023-10-22T18:26:35.107674Z",
          "shell.execute_reply": "2023-10-22T18:26:35.114639Z"
        },
        "trusted": true,
        "colab": {
          "base_uri": "https://localhost:8080/"
        },
        "id": "ecETsdX4OT8r",
        "outputId": "10694d10-599b-4b0b-e116-75468f76303c"
      },
      "execution_count": 25,
      "outputs": [
        {
          "output_type": "execute_result",
          "data": {
            "text/plain": [
              "(4192, 20)"
            ]
          },
          "metadata": {},
          "execution_count": 25
        }
      ]
    },
    {
      "cell_type": "code",
      "source": [
        "X_test.shape"
      ],
      "metadata": {
        "execution": {
          "iopub.status.busy": "2023-10-22T18:26:36.179527Z",
          "iopub.execute_input": "2023-10-22T18:26:36.179970Z",
          "iopub.status.idle": "2023-10-22T18:26:36.188435Z",
          "shell.execute_reply.started": "2023-10-22T18:26:36.179939Z",
          "shell.execute_reply": "2023-10-22T18:26:36.186989Z"
        },
        "trusted": true,
        "colab": {
          "base_uri": "https://localhost:8080/"
        },
        "id": "idonu4VwOT8s",
        "outputId": "ac529c75-4b11-4f9f-cae3-8e002870242d"
      },
      "execution_count": 26,
      "outputs": [
        {
          "output_type": "execute_result",
          "data": {
            "text/plain": [
              "(1398, 20)"
            ]
          },
          "metadata": {},
          "execution_count": 26
        }
      ]
    },
    {
      "cell_type": "code",
      "source": [
        "y_train.shape[0]"
      ],
      "metadata": {
        "execution": {
          "iopub.status.busy": "2023-10-22T18:26:45.689608Z",
          "iopub.execute_input": "2023-10-22T18:26:45.690001Z",
          "iopub.status.idle": "2023-10-22T18:26:45.696601Z",
          "shell.execute_reply.started": "2023-10-22T18:26:45.689972Z",
          "shell.execute_reply": "2023-10-22T18:26:45.695668Z"
        },
        "trusted": true,
        "colab": {
          "base_uri": "https://localhost:8080/"
        },
        "id": "_kBTsCrKOT8t",
        "outputId": "ebeed502-2394-423e-e584-bc63ff912092"
      },
      "execution_count": 27,
      "outputs": [
        {
          "output_type": "execute_result",
          "data": {
            "text/plain": [
              "4192"
            ]
          },
          "metadata": {},
          "execution_count": 27
        }
      ]
    },
    {
      "cell_type": "code",
      "source": [
        "y_test.shape[0]"
      ],
      "metadata": {
        "execution": {
          "iopub.status.busy": "2023-10-22T18:26:58.391091Z",
          "iopub.execute_input": "2023-10-22T18:26:58.392600Z",
          "iopub.status.idle": "2023-10-22T18:26:58.401755Z",
          "shell.execute_reply.started": "2023-10-22T18:26:58.392546Z",
          "shell.execute_reply": "2023-10-22T18:26:58.400137Z"
        },
        "trusted": true,
        "colab": {
          "base_uri": "https://localhost:8080/"
        },
        "id": "APjAEMYoOT8u",
        "outputId": "1d0fa1cf-dd51-4388-8a03-06bc1cf2ca73"
      },
      "execution_count": 28,
      "outputs": [
        {
          "output_type": "execute_result",
          "data": {
            "text/plain": [
              "1398"
            ]
          },
          "metadata": {},
          "execution_count": 28
        }
      ]
    },
    {
      "cell_type": "code",
      "source": [
        "# Definin outlier thresholds\n",
        "\n",
        "def outlier_thresholds(dataframe, col_name, q1=0.05, q3=0.95):\n",
        "    quartile1 = dataframe[col_name].quantile(q1)\n",
        "    quartile3 = dataframe[col_name].quantile(q3)\n",
        "\n",
        "    interquantile_range = quartile3 - quartile1\n",
        "\n",
        "    up_limit = quartile3 + 1.5 * interquantile_range\n",
        "    low_limit = quartile1 - 1.5 * interquantile_range\n",
        "\n",
        "    return low_limit, up_limit"
      ],
      "metadata": {
        "execution": {
          "iopub.status.busy": "2023-10-22T18:27:03.968046Z",
          "iopub.execute_input": "2023-10-22T18:27:03.968469Z",
          "iopub.status.idle": "2023-10-22T18:27:03.975254Z",
          "shell.execute_reply.started": "2023-10-22T18:27:03.968428Z",
          "shell.execute_reply": "2023-10-22T18:27:03.974099Z"
        },
        "trusted": true,
        "id": "uBUylog0OT8v"
      },
      "execution_count": 29,
      "outputs": []
    },
    {
      "cell_type": "code",
      "source": [
        "# Check outlier for a variable\n",
        "\n",
        "def check_outlier(dataframe, col_name):\n",
        "    low_limit, up_limit = outlier_thresholds(dataframe, col_name)\n",
        "\n",
        "    if dataframe[(dataframe[col_name] > up_limit) | (dataframe[col_name] < low_limit)].any(axis=None):\n",
        "        return True\n",
        "    else:\n",
        "        return False"
      ],
      "metadata": {
        "execution": {
          "iopub.status.busy": "2023-10-22T18:27:05.943268Z",
          "iopub.execute_input": "2023-10-22T18:27:05.943674Z",
          "iopub.status.idle": "2023-10-22T18:27:05.950096Z",
          "shell.execute_reply.started": "2023-10-22T18:27:05.943645Z",
          "shell.execute_reply": "2023-10-22T18:27:05.949222Z"
        },
        "trusted": true,
        "id": "1JQIpK4TOT8w"
      },
      "execution_count": 30,
      "outputs": []
    },
    {
      "cell_type": "code",
      "source": [
        "num_cols = [col for col in num_cols if col not in \"Price\"]"
      ],
      "metadata": {
        "execution": {
          "iopub.status.busy": "2023-10-22T18:27:15.379853Z",
          "iopub.execute_input": "2023-10-22T18:27:15.380343Z",
          "iopub.status.idle": "2023-10-22T18:27:15.386727Z",
          "shell.execute_reply.started": "2023-10-22T18:27:15.380293Z",
          "shell.execute_reply": "2023-10-22T18:27:15.385345Z"
        },
        "trusted": true,
        "id": "lDO77uM7OT8x"
      },
      "execution_count": 31,
      "outputs": []
    },
    {
      "cell_type": "code",
      "source": [
        "for col in num_cols:\n",
        "    low_limit, up_limit = outlier_thresholds(X_train, col)\n",
        "\n",
        "    print(f\"{col}\\nLow Limit = {low_limit}\\nUp Limit = {up_limit}\\n\")"
      ],
      "metadata": {
        "execution": {
          "iopub.status.busy": "2023-10-22T18:27:16.092540Z",
          "iopub.execute_input": "2023-10-22T18:27:16.092951Z",
          "iopub.status.idle": "2023-10-22T18:27:16.128197Z",
          "shell.execute_reply.started": "2023-10-22T18:27:16.092921Z",
          "shell.execute_reply": "2023-10-22T18:27:16.126799Z"
        },
        "trusted": true,
        "colab": {
          "base_uri": "https://localhost:8080/"
        },
        "id": "BG9ErHWpOT8x",
        "outputId": "9db76ef4-86eb-4341-d041-48ee745e223c"
      },
      "execution_count": 32,
      "outputs": [
        {
          "output_type": "stream",
          "name": "stdout",
          "text": [
            "Distance\n",
            "Low Limit = -13.299999999999988\n",
            "Up Limit = 30.21999999999999\n",
            "\n",
            "Postcode\n",
            "Low Limit = 2755.5\n",
            "Up Limit = 3447.5\n",
            "\n",
            "Bedroom2\n",
            "Low Limit = -1.0\n",
            "Up Limit = 7.0\n",
            "\n",
            "Landsize\n",
            "Low Limit = -1373.25\n",
            "Up Limit = 2288.75\n",
            "\n",
            "BuildingArea\n",
            "Low Limit = -329.32499999999993\n",
            "Up Limit = 692.8749999999999\n",
            "\n",
            "YearBuilt\n",
            "Low Limit = 1707.0\n",
            "Up Limit = 2195.0\n",
            "\n",
            "Lattitude\n",
            "Low Limit = -38.22640000000001\n",
            "Up Limit = -37.4324\n",
            "\n",
            "Longtitude\n",
            "Low Limit = 144.51017500000003\n",
            "Up Limit = 145.45877499999997\n",
            "\n",
            "Propertycount\n",
            "Low Limit = -10574.5\n",
            "Up Limit = 24437.5\n",
            "\n"
          ]
        }
      ]
    },
    {
      "cell_type": "code",
      "source": [
        "X_train_outlier = []\n",
        "\n",
        "for col in num_cols:\n",
        "    print(col, check_outlier(X_train, col))\n",
        "\n",
        "    if check_outlier(X_train, col) == True:\n",
        "        X_train_outlier.append(col)"
      ],
      "metadata": {
        "execution": {
          "iopub.status.busy": "2023-10-22T18:27:19.490025Z",
          "iopub.execute_input": "2023-10-22T18:27:19.490462Z",
          "iopub.status.idle": "2023-10-22T18:27:19.589245Z",
          "shell.execute_reply.started": "2023-10-22T18:27:19.490429Z",
          "shell.execute_reply": "2023-10-22T18:27:19.587847Z"
        },
        "trusted": true,
        "colab": {
          "base_uri": "https://localhost:8080/"
        },
        "id": "ftp4B-QYOT8z",
        "outputId": "5f492480-08b6-4ab7-f3e1-62d509a75eb6"
      },
      "execution_count": 33,
      "outputs": [
        {
          "output_type": "stream",
          "name": "stdout",
          "text": [
            "Distance False\n",
            "Postcode False\n",
            "Bedroom2 True\n",
            "Landsize True\n",
            "BuildingArea True\n",
            "YearBuilt False\n",
            "Lattitude False\n",
            "Longtitude False\n",
            "Propertycount False\n"
          ]
        }
      ]
    },
    {
      "cell_type": "code",
      "source": [
        "X_train_outlier"
      ],
      "metadata": {
        "execution": {
          "iopub.status.busy": "2023-10-22T18:27:33.754711Z",
          "iopub.execute_input": "2023-10-22T18:27:33.755105Z",
          "iopub.status.idle": "2023-10-22T18:27:33.763920Z",
          "shell.execute_reply.started": "2023-10-22T18:27:33.755075Z",
          "shell.execute_reply": "2023-10-22T18:27:33.762596Z"
        },
        "trusted": true,
        "colab": {
          "base_uri": "https://localhost:8080/"
        },
        "id": "xSmuFT2dOT8z",
        "outputId": "a7495215-7ccd-4400-adf7-50e11b51c40f"
      },
      "execution_count": 34,
      "outputs": [
        {
          "output_type": "execute_result",
          "data": {
            "text/plain": [
              "['Bedroom2', 'Landsize', 'BuildingArea']"
            ]
          },
          "metadata": {},
          "execution_count": 34
        }
      ]
    },
    {
      "cell_type": "markdown",
      "source": [
        "There are some outliers in **Rooms**, **Postcode**, **Bedroom2**, **Bathroom**, **Car**, **Landsize**, **BuildingArea**, and **YearBuilt** variables. **Price** is our target value. So we check the ourliers without Price variable."
      ],
      "metadata": {
        "id": "ecM-Sd_qOT82"
      }
    },
    {
      "cell_type": "code",
      "source": [
        "# Catching outliers in variables\n",
        "\n",
        "def grab_outliers(dataframe, col_name, index=False):\n",
        "    low, up = outlier_thresholds(dataframe, col_name)\n",
        "\n",
        "    if dataframe[((dataframe[col_name] < low) | (dataframe[col_name] > up))].shape[0] > 10:\n",
        "        print(dataframe[((dataframe[col_name] < low) | (dataframe[col_name] > up))].head())\n",
        "    else:\n",
        "        print(dataframe[((dataframe[col_name] < low) | (dataframe[col_name] > up))])\n",
        "\n",
        "    if index:\n",
        "        outlier_index = dataframe[((dataframe[col_name] < low) | (dataframe[col_name] > up))].index\n",
        "        return outlier_index"
      ],
      "metadata": {
        "execution": {
          "iopub.status.busy": "2023-10-22T18:27:35.530203Z",
          "iopub.execute_input": "2023-10-22T18:27:35.530637Z",
          "iopub.status.idle": "2023-10-22T18:27:35.539574Z",
          "shell.execute_reply.started": "2023-10-22T18:27:35.530604Z",
          "shell.execute_reply": "2023-10-22T18:27:35.538257Z"
        },
        "trusted": true,
        "id": "fI2RNvcbOT83"
      },
      "execution_count": 35,
      "outputs": []
    },
    {
      "cell_type": "code",
      "source": [
        "outlier_indices = []\n",
        "\n",
        "for col in X_train_outlier:\n",
        "    indices = grab_outliers(X_train, col, index=True)\n",
        "    outlier_indices.extend(indices)"
      ],
      "metadata": {
        "execution": {
          "iopub.status.busy": "2023-10-22T18:27:37.251491Z",
          "iopub.execute_input": "2023-10-22T18:27:37.251901Z",
          "iopub.status.idle": "2023-10-22T18:27:37.338383Z",
          "shell.execute_reply.started": "2023-10-22T18:27:37.251871Z",
          "shell.execute_reply": "2023-10-22T18:27:37.337255Z"
        },
        "trusted": true,
        "colab": {
          "base_uri": "https://localhost:8080/"
        },
        "id": "fR74zjlEOT85",
        "outputId": "109b5067-4790-4b5a-c323-5a8efc5761df"
      },
      "execution_count": 36,
      "outputs": [
        {
          "output_type": "stream",
          "name": "stdout",
          "text": [
            "        Suburb         Address  Rooms Type Method        SellerG        Date  Distance  Postcode  Bedroom2  Bathroom  Car  Landsize  BuildingArea  YearBuilt              CouncilArea  Lattitude  Longtitude             Regionname  Propertycount\n",
            "616  Ashburton  115 Ashburn Gr   8.00    h      S  hockingstuart  10/09/2016     11.00   3147.00      9.00      7.00 4.00   1472.00        618.00    2009.00  Boroondara City Council     -37.87      145.08  Southern Metropolitan        3052.00\n",
            "             Suburb          Address  Rooms Type Method   SellerG        Date  Distance  Postcode  Bedroom2  Bathroom  Car  Landsize  BuildingArea  YearBuilt             CouncilArea  Lattitude  Longtitude             Regionname  Propertycount\n",
            "5797     Kensington  28/18 Mawbey St   3.00    u      S  Woodards  10/12/2016      4.20   3031.00      3.00      1.00 1.00   4440.00           NaN        NaN  Melbourne City Council     -37.79      144.92  Northern Metropolitan        5263.00\n",
            "4256  Fitzroy North   186 Queens Pde   2.00    t      S    Nelson   3/09/2016      3.50   3068.00      2.00      3.00 0.00   2778.00       3558.00        NaN   Moreland City Council     -37.79      144.99  Northern Metropolitan        6244.00\n",
            "3533    Collingwood   2/79 Oxford St   2.00    u      S    Nelson   3/09/2016      1.60   3066.00      2.00      1.00 1.00   2886.00        122.00    1830.00      Yarra City Council     -37.80      144.98  Northern Metropolitan        4553.00\n",
            "5101        Hampton    3/56 Beach Rd   2.00    u      S    Buxton  26/07/2016     13.70   3188.00      2.00      1.00 2.00   3414.00           NaN        NaN    Bayside City Council     -37.94      145.00  Southern Metropolitan        5454.00\n",
            "4258  Fitzroy North     129/4 Bik La   2.00    u     SP   Collins   4/03/2017      3.50   3068.00      2.00      2.00 2.00   4296.00           NaN    2011.00   Moreland City Council     -37.78      144.98  Northern Metropolitan        6244.00\n",
            "             Suburb            Address  Rooms Type Method    SellerG        Date  Distance  Postcode  Bedroom2  Bathroom  Car  Landsize  BuildingArea  YearBuilt                 CouncilArea  Lattitude  Longtitude             Regionname  Propertycount\n",
            "4256  Fitzroy North     186 Queens Pde   2.00    t      S     Nelson   3/09/2016      3.50   3068.00      2.00      3.00 0.00   2778.00       3558.00        NaN       Moreland City Council     -37.79      144.99  Northern Metropolitan        6244.00\n",
            "2466        Bulleen    19 Warringal St   4.00    h      S      Barry  11/03/2017     11.80   3105.00      4.00      1.00 2.00    732.00       6791.00        NaN     Manningham City Council     -37.76      145.09   Eastern Metropolitan        4480.00\n",
            "6070            Kew       31 Argyle Rd   4.00    h     VB        Kay  28/08/2016      5.60   3101.00      4.00      3.00 2.00    700.00        700.00    1992.00     Boroondara City Council     -37.80      145.05  Southern Metropolitan       10331.00\n",
            "4681      Glen Iris    1/58 Edgar St N   2.00    t     VB       Gary  22/08/2016      9.20   3146.00      2.00      1.00 1.00      0.00       1143.00        NaN     Boroondara City Council     -37.85      145.05  Southern Metropolitan       10412.00\n",
            "694         Ashwood      35 Douglas St   3.00    h      S  Fletchers  10/09/2016     12.20   3147.00      3.00      1.00 1.00    792.00        792.00    1950.00         Monash City Council     -37.86      145.10  Southern Metropolitan        2894.00\n",
            "1110   Balwyn North    15 Illawarra Rd   3.00    h      S       Noel  16/07/2016      9.20   3104.00      3.00      1.00 2.00    713.00        720.00    1950.00     Boroondara City Council     -37.80      145.08  Southern Metropolitan        7809.00\n",
            "5992            Kew  24 Fitzwilliam St   5.00    h      S        Kay  18/06/2016      5.60   3101.00      3.00      2.00 1.00    531.00       1022.00    1890.00     Boroondara City Council     -37.81      145.04  Southern Metropolitan       10331.00\n",
            "4129       Essendon     118 Buckley St   3.00    h     PI      Raine  28/08/2016      8.00   3040.00      3.00      1.00 2.00      0.00        700.00    1915.00  Moonee Valley City Council     -37.76      144.92   Western Metropolitan        9264.00\n"
          ]
        }
      ]
    },
    {
      "cell_type": "code",
      "source": [
        "len(outlier_indices)"
      ],
      "metadata": {
        "execution": {
          "iopub.status.busy": "2023-10-22T18:27:42.496087Z",
          "iopub.execute_input": "2023-10-22T18:27:42.496570Z",
          "iopub.status.idle": "2023-10-22T18:27:42.505181Z",
          "shell.execute_reply.started": "2023-10-22T18:27:42.496534Z",
          "shell.execute_reply": "2023-10-22T18:27:42.503634Z"
        },
        "trusted": true,
        "colab": {
          "base_uri": "https://localhost:8080/"
        },
        "id": "b65IyGbbOT86",
        "outputId": "840eb253-f177-45c5-b34c-c4778f458570"
      },
      "execution_count": 37,
      "outputs": [
        {
          "output_type": "execute_result",
          "data": {
            "text/plain": [
              "39"
            ]
          },
          "metadata": {},
          "execution_count": 37
        }
      ]
    },
    {
      "cell_type": "code",
      "source": [
        "X_train.shape"
      ],
      "metadata": {
        "execution": {
          "iopub.status.busy": "2023-10-22T18:27:44.808322Z",
          "iopub.execute_input": "2023-10-22T18:27:44.810018Z",
          "iopub.status.idle": "2023-10-22T18:27:44.818088Z",
          "shell.execute_reply.started": "2023-10-22T18:27:44.809964Z",
          "shell.execute_reply": "2023-10-22T18:27:44.816803Z"
        },
        "trusted": true,
        "colab": {
          "base_uri": "https://localhost:8080/"
        },
        "id": "x4IkD5dxOT87",
        "outputId": "338ab22f-c79f-4198-a52a-b93052ed80a1"
      },
      "execution_count": 38,
      "outputs": [
        {
          "output_type": "execute_result",
          "data": {
            "text/plain": [
              "(4192, 20)"
            ]
          },
          "metadata": {},
          "execution_count": 38
        }
      ]
    },
    {
      "cell_type": "code",
      "source": [
        "X_train = X_train.drop(index=outlier_indices)"
      ],
      "metadata": {
        "execution": {
          "iopub.status.busy": "2023-10-22T18:27:56.056984Z",
          "iopub.execute_input": "2023-10-22T18:27:56.057386Z",
          "iopub.status.idle": "2023-10-22T18:27:56.069311Z",
          "shell.execute_reply.started": "2023-10-22T18:27:56.057324Z",
          "shell.execute_reply": "2023-10-22T18:27:56.067884Z"
        },
        "trusted": true,
        "id": "QiUQEDd5OT89"
      },
      "execution_count": 39,
      "outputs": []
    },
    {
      "cell_type": "code",
      "source": [
        "X_train.shape[0]"
      ],
      "metadata": {
        "execution": {
          "iopub.status.busy": "2023-10-22T18:27:58.266014Z",
          "iopub.execute_input": "2023-10-22T18:27:58.266869Z",
          "iopub.status.idle": "2023-10-22T18:27:58.275059Z",
          "shell.execute_reply.started": "2023-10-22T18:27:58.266834Z",
          "shell.execute_reply": "2023-10-22T18:27:58.273480Z"
        },
        "trusted": true,
        "colab": {
          "base_uri": "https://localhost:8080/"
        },
        "id": "6lqnWEGsOT8-",
        "outputId": "3e354fcb-30c8-4234-8445-5bb5cfac3157"
      },
      "execution_count": 40,
      "outputs": [
        {
          "output_type": "execute_result",
          "data": {
            "text/plain": [
              "4154"
            ]
          },
          "metadata": {},
          "execution_count": 40
        }
      ]
    },
    {
      "cell_type": "code",
      "source": [
        "y_train.shape[0]"
      ],
      "metadata": {
        "execution": {
          "iopub.status.busy": "2023-10-22T18:28:00.669521Z",
          "iopub.execute_input": "2023-10-22T18:28:00.670704Z",
          "iopub.status.idle": "2023-10-22T18:28:00.677679Z",
          "shell.execute_reply.started": "2023-10-22T18:28:00.670666Z",
          "shell.execute_reply": "2023-10-22T18:28:00.676275Z"
        },
        "trusted": true,
        "colab": {
          "base_uri": "https://localhost:8080/"
        },
        "id": "ZFLdApAdOT9A",
        "outputId": "c9bcef74-3e08-41a8-d2f4-50f05d34f29c"
      },
      "execution_count": 41,
      "outputs": [
        {
          "output_type": "execute_result",
          "data": {
            "text/plain": [
              "4192"
            ]
          },
          "metadata": {},
          "execution_count": 41
        }
      ]
    },
    {
      "cell_type": "code",
      "source": [
        "y_train = y_train.drop(index=outlier_indices)"
      ],
      "metadata": {
        "execution": {
          "iopub.status.busy": "2023-10-22T18:28:05.956800Z",
          "iopub.execute_input": "2023-10-22T18:28:05.957351Z",
          "iopub.status.idle": "2023-10-22T18:28:05.965533Z",
          "shell.execute_reply.started": "2023-10-22T18:28:05.957288Z",
          "shell.execute_reply": "2023-10-22T18:28:05.964115Z"
        },
        "trusted": true,
        "id": "AFNBkAoaOT9B"
      },
      "execution_count": 42,
      "outputs": []
    },
    {
      "cell_type": "code",
      "source": [
        "y_train.shape[0]"
      ],
      "metadata": {
        "execution": {
          "iopub.status.busy": "2023-10-22T18:28:07.621883Z",
          "iopub.execute_input": "2023-10-22T18:28:07.622482Z",
          "iopub.status.idle": "2023-10-22T18:28:07.630587Z",
          "shell.execute_reply.started": "2023-10-22T18:28:07.622438Z",
          "shell.execute_reply": "2023-10-22T18:28:07.629358Z"
        },
        "trusted": true,
        "colab": {
          "base_uri": "https://localhost:8080/"
        },
        "id": "3oMWsdE3OT9D",
        "outputId": "881661fc-c46e-4bf5-cb9c-6ee030f701fd"
      },
      "execution_count": 43,
      "outputs": [
        {
          "output_type": "execute_result",
          "data": {
            "text/plain": [
              "4154"
            ]
          },
          "metadata": {},
          "execution_count": 43
        }
      ]
    },
    {
      "cell_type": "code",
      "source": [
        "20435 - 19899"
      ],
      "metadata": {
        "execution": {
          "iopub.status.busy": "2023-10-22T18:28:24.241531Z",
          "iopub.execute_input": "2023-10-22T18:28:24.242173Z",
          "iopub.status.idle": "2023-10-22T18:28:24.249279Z",
          "shell.execute_reply.started": "2023-10-22T18:28:24.242135Z",
          "shell.execute_reply": "2023-10-22T18:28:24.248224Z"
        },
        "trusted": true,
        "colab": {
          "base_uri": "https://localhost:8080/"
        },
        "id": "JrxRQDvzOT9F",
        "outputId": "a35b1be7-5eb9-47e0-ec0b-868786a1611d"
      },
      "execution_count": 44,
      "outputs": [
        {
          "output_type": "execute_result",
          "data": {
            "text/plain": [
              "536"
            ]
          },
          "metadata": {},
          "execution_count": 44
        }
      ]
    },
    {
      "cell_type": "markdown",
      "source": [
        "We removed totally 536 values from X_train dataset."
      ],
      "metadata": {
        "id": "9eMKDjuuOT9H"
      }
    },
    {
      "cell_type": "code",
      "source": [
        "num_cols"
      ],
      "metadata": {
        "execution": {
          "iopub.status.busy": "2023-10-22T18:28:31.440434Z",
          "iopub.execute_input": "2023-10-22T18:28:31.440844Z",
          "iopub.status.idle": "2023-10-22T18:28:31.448021Z",
          "shell.execute_reply.started": "2023-10-22T18:28:31.440814Z",
          "shell.execute_reply": "2023-10-22T18:28:31.447100Z"
        },
        "trusted": true,
        "colab": {
          "base_uri": "https://localhost:8080/"
        },
        "id": "WtnM0ewnOT9I",
        "outputId": "15dd8815-8886-426d-95ae-73bb8872187e"
      },
      "execution_count": 45,
      "outputs": [
        {
          "output_type": "execute_result",
          "data": {
            "text/plain": [
              "['Distance',\n",
              " 'Postcode',\n",
              " 'Bedroom2',\n",
              " 'Landsize',\n",
              " 'BuildingArea',\n",
              " 'YearBuilt',\n",
              " 'Lattitude',\n",
              " 'Longtitude',\n",
              " 'Propertycount']"
            ]
          },
          "metadata": {},
          "execution_count": 45
        }
      ]
    },
    {
      "cell_type": "code",
      "source": [
        "label_encoder = LabelEncoder()"
      ],
      "metadata": {
        "execution": {
          "iopub.status.busy": "2023-10-22T18:28:33.527157Z",
          "iopub.execute_input": "2023-10-22T18:28:33.527622Z",
          "iopub.status.idle": "2023-10-22T18:28:33.533201Z",
          "shell.execute_reply.started": "2023-10-22T18:28:33.527589Z",
          "shell.execute_reply": "2023-10-22T18:28:33.532242Z"
        },
        "trusted": true,
        "id": "M7l-YVaYOT9K"
      },
      "execution_count": 46,
      "outputs": []
    },
    {
      "cell_type": "code",
      "source": [
        "for col in cat_cols:\n",
        "    X_train[col] = label_encoder.fit_transform(X_train[col])"
      ],
      "metadata": {
        "execution": {
          "iopub.status.busy": "2023-10-22T18:28:35.903907Z",
          "iopub.execute_input": "2023-10-22T18:28:35.904594Z",
          "iopub.status.idle": "2023-10-22T18:28:35.934531Z",
          "shell.execute_reply.started": "2023-10-22T18:28:35.904548Z",
          "shell.execute_reply": "2023-10-22T18:28:35.933259Z"
        },
        "trusted": true,
        "id": "aGyPNV_bOT9M"
      },
      "execution_count": 47,
      "outputs": []
    },
    {
      "cell_type": "code",
      "source": [
        "for col in cat_but_car:\n",
        "    X_train[col] = label_encoder.fit_transform(X_train[col])"
      ],
      "metadata": {
        "execution": {
          "iopub.status.busy": "2023-10-22T18:28:36.800755Z",
          "iopub.execute_input": "2023-10-22T18:28:36.801256Z",
          "iopub.status.idle": "2023-10-22T18:28:36.913795Z",
          "shell.execute_reply.started": "2023-10-22T18:28:36.801216Z",
          "shell.execute_reply": "2023-10-22T18:28:36.912832Z"
        },
        "trusted": true,
        "id": "sZgl-L-oOT9O"
      },
      "execution_count": 48,
      "outputs": []
    },
    {
      "cell_type": "code",
      "source": [
        "imputer = KNNImputer(n_neighbors=5)\n",
        "\n",
        "X_train_imputed = imputer.fit_transform(X_train)"
      ],
      "metadata": {
        "execution": {
          "iopub.status.busy": "2023-10-22T18:28:38.363027Z",
          "iopub.execute_input": "2023-10-22T18:28:38.363514Z",
          "iopub.status.idle": "2023-10-22T18:29:08.726157Z",
          "shell.execute_reply.started": "2023-10-22T18:28:38.363481Z",
          "shell.execute_reply": "2023-10-22T18:29:08.724630Z"
        },
        "trusted": true,
        "id": "y_6otrjwOT9P"
      },
      "execution_count": 49,
      "outputs": []
    },
    {
      "cell_type": "code",
      "source": [
        "for col in cat_cols:\n",
        "    X_test[col] = label_encoder.fit_transform(X_test[col])"
      ],
      "metadata": {
        "execution": {
          "iopub.status.busy": "2023-10-22T18:29:51.091910Z",
          "iopub.execute_input": "2023-10-22T18:29:51.092375Z",
          "iopub.status.idle": "2023-10-22T18:29:51.107408Z",
          "shell.execute_reply.started": "2023-10-22T18:29:51.092313Z",
          "shell.execute_reply": "2023-10-22T18:29:51.105878Z"
        },
        "trusted": true,
        "id": "VXNE2PHFOT9R"
      },
      "execution_count": 50,
      "outputs": []
    },
    {
      "cell_type": "code",
      "source": [
        "for col in cat_but_car:\n",
        "    X_test[col] = label_encoder.fit_transform(X_test[col])"
      ],
      "metadata": {
        "execution": {
          "iopub.status.busy": "2023-10-22T18:29:54.200698Z",
          "iopub.execute_input": "2023-10-22T18:29:54.201112Z",
          "iopub.status.idle": "2023-10-22T18:29:54.242559Z",
          "shell.execute_reply.started": "2023-10-22T18:29:54.201083Z",
          "shell.execute_reply": "2023-10-22T18:29:54.241652Z"
        },
        "trusted": true,
        "id": "D83jqNVXOT9S"
      },
      "execution_count": 51,
      "outputs": []
    },
    {
      "cell_type": "code",
      "source": [
        "imputer = KNNImputer(n_neighbors=5)\n",
        "\n",
        "X_test_imputed = imputer.fit_transform(X_test)"
      ],
      "metadata": {
        "execution": {
          "iopub.status.busy": "2023-10-22T18:29:58.476523Z",
          "iopub.execute_input": "2023-10-22T18:29:58.477762Z",
          "iopub.status.idle": "2023-10-22T18:30:02.028700Z",
          "shell.execute_reply.started": "2023-10-22T18:29:58.477723Z",
          "shell.execute_reply": "2023-10-22T18:30:02.027504Z"
        },
        "trusted": true,
        "id": "E4WfDLexOT9S"
      },
      "execution_count": 52,
      "outputs": []
    },
    {
      "cell_type": "code",
      "source": [
        "missing_values = np.isnan(X_train_imputed)\n",
        "missing_counts = np.sum(missing_values, axis=0)\n",
        "total_missing = np.sum(missing_counts)"
      ],
      "metadata": {
        "execution": {
          "iopub.status.busy": "2023-10-22T18:30:05.948599Z",
          "iopub.execute_input": "2023-10-22T18:30:05.949447Z",
          "iopub.status.idle": "2023-10-22T18:30:05.956466Z",
          "shell.execute_reply.started": "2023-10-22T18:30:05.949402Z",
          "shell.execute_reply": "2023-10-22T18:30:05.955257Z"
        },
        "trusted": true,
        "id": "GDVLpA6hOT9V"
      },
      "execution_count": 53,
      "outputs": []
    },
    {
      "cell_type": "code",
      "source": [
        "print(\"Missing Values for all variables:\")\n",
        "print(missing_counts)"
      ],
      "metadata": {
        "execution": {
          "iopub.status.busy": "2023-10-22T18:30:07.852189Z",
          "iopub.execute_input": "2023-10-22T18:30:07.852632Z",
          "iopub.status.idle": "2023-10-22T18:30:07.858824Z",
          "shell.execute_reply.started": "2023-10-22T18:30:07.852600Z",
          "shell.execute_reply": "2023-10-22T18:30:07.857433Z"
        },
        "trusted": true,
        "colab": {
          "base_uri": "https://localhost:8080/"
        },
        "id": "zhbF4xmmOT9W",
        "outputId": "933fc6b3-9764-4c87-832c-23011ff4adf2"
      },
      "execution_count": 54,
      "outputs": [
        {
          "output_type": "stream",
          "name": "stdout",
          "text": [
            "Missing Values for all variables:\n",
            "[0 0 0 0 0 0 0 0 0 0 0 0 0 0 0 0 0 0 0 0]\n"
          ]
        }
      ]
    },
    {
      "cell_type": "code",
      "source": [
        "X_train_imputed.shape[0]"
      ],
      "metadata": {
        "execution": {
          "iopub.status.busy": "2023-10-22T18:30:10.549255Z",
          "iopub.execute_input": "2023-10-22T18:30:10.549699Z",
          "iopub.status.idle": "2023-10-22T18:30:10.558392Z",
          "shell.execute_reply.started": "2023-10-22T18:30:10.549666Z",
          "shell.execute_reply": "2023-10-22T18:30:10.556608Z"
        },
        "trusted": true,
        "colab": {
          "base_uri": "https://localhost:8080/"
        },
        "id": "gLZQAwL3OT9W",
        "outputId": "2efc0037-a6ee-4592-9e0a-d3bbcf811ae3"
      },
      "execution_count": 55,
      "outputs": [
        {
          "output_type": "execute_result",
          "data": {
            "text/plain": [
              "4154"
            ]
          },
          "metadata": {},
          "execution_count": 55
        }
      ]
    },
    {
      "cell_type": "code",
      "source": [
        "y_train.shape[0]"
      ],
      "metadata": {
        "execution": {
          "iopub.status.busy": "2023-10-22T18:30:12.434636Z",
          "iopub.execute_input": "2023-10-22T18:30:12.435080Z",
          "iopub.status.idle": "2023-10-22T18:30:12.443012Z",
          "shell.execute_reply.started": "2023-10-22T18:30:12.435048Z",
          "shell.execute_reply": "2023-10-22T18:30:12.441761Z"
        },
        "trusted": true,
        "colab": {
          "base_uri": "https://localhost:8080/"
        },
        "id": "2P6OPV1tOT9X",
        "outputId": "071cefdc-c802-4525-b28f-fffbf8e06625"
      },
      "execution_count": 56,
      "outputs": [
        {
          "output_type": "execute_result",
          "data": {
            "text/plain": [
              "4154"
            ]
          },
          "metadata": {},
          "execution_count": 56
        }
      ]
    },
    {
      "cell_type": "code",
      "source": [
        "estimator = DecisionTreeRegressor()\n",
        "\n",
        "models = {\n",
        "    'Lasso': Lasso(),\n",
        "    'LinearRegression': LinearRegression(),\n",
        "    'Ridge': Ridge(),\n",
        "    'ElasticNet': ElasticNet(),\n",
        "    'KNeighborsRegressor': KNeighborsRegressor(),\n",
        "    'RandomForestRegressor': RandomForestRegressor(),\n",
        "    'GradientBoostingRegressor': GradientBoostingRegressor(),\n",
        "    'AdaBoostRegressor': AdaBoostRegressor(n_estimators = 20, learning_rate = 1, loss = 'exponential', random_state = 42, estimator=estimator)\n",
        "}"
      ],
      "metadata": {
        "execution": {
          "iopub.status.busy": "2023-10-22T18:30:14.764094Z",
          "iopub.execute_input": "2023-10-22T18:30:14.764532Z",
          "iopub.status.idle": "2023-10-22T18:30:14.772249Z",
          "shell.execute_reply.started": "2023-10-22T18:30:14.764499Z",
          "shell.execute_reply": "2023-10-22T18:30:14.770696Z"
        },
        "trusted": true,
        "id": "V4FiRtR3OT9Y"
      },
      "execution_count": 57,
      "outputs": []
    },
    {
      "cell_type": "code",
      "source": [
        "for model_name, model in models.items():\n",
        "    model.fit(X_train_imputed, y_train)\n",
        "    predict = model.predict(X_test_imputed)\n",
        "    mae = mean_absolute_error(y_test, predict)\n",
        "    mse = mean_squared_error(y_test, predict)\n",
        "    rmse = np.sqrt(mse)\n",
        "    r2 = r2_score(y_test, predict)\n",
        "\n",
        "    print(f\"##########{model_name}##########\")\n",
        "    print(\"Mean Absolute Error:  \",mae)\n",
        "    print(\"Mean Seqaure Error:  \",mse)\n",
        "    print(\"R Mean Seqaure Error:  \",rmse)\n",
        "    print(\"R2:  \",r2)\n",
        "    print(\"Model Skoru:  \",model.score(X_test_imputed,y_test))\n",
        "    print(\"\\n\")"
      ],
      "metadata": {
        "execution": {
          "iopub.status.busy": "2023-10-22T19:04:33.890111Z",
          "iopub.execute_input": "2023-10-22T19:04:33.890626Z",
          "iopub.status.idle": "2023-10-22T19:05:10.958315Z",
          "shell.execute_reply.started": "2023-10-22T19:04:33.890589Z",
          "shell.execute_reply": "2023-10-22T19:05:10.956931Z"
        },
        "trusted": true,
        "colab": {
          "base_uri": "https://localhost:8080/"
        },
        "id": "D-4Ky4m2OT9Z",
        "outputId": "5fb6a171-e552-4724-bfc6-1ce02a7fe542"
      },
      "execution_count": 58,
      "outputs": [
        {
          "output_type": "stream",
          "name": "stdout",
          "text": [
            "##########Lasso##########\n",
            "Mean Absolute Error:   347443.68331809534\n",
            "Mean Seqaure Error:   381255976212.63226\n",
            "R Mean Seqaure Error:   617459.2911379925\n",
            "R2:   0.26212007229577217\n",
            "Model Skoru:   0.26212007229577217\n",
            "\n",
            "\n",
            "##########LinearRegression##########\n",
            "Mean Absolute Error:   347446.12776020425\n",
            "Mean Seqaure Error:   381252413692.098\n",
            "R Mean Seqaure Error:   617456.4063090592\n",
            "R2:   0.2621269671710219\n",
            "Model Skoru:   0.2621269671710219\n",
            "\n",
            "\n",
            "##########Ridge##########\n",
            "Mean Absolute Error:   347426.9620866628\n",
            "Mean Seqaure Error:   383754307715.2416\n",
            "R Mean Seqaure Error:   619479.0615632151\n",
            "R2:   0.25728482043470113\n",
            "Model Skoru:   0.25728482043470113\n",
            "\n",
            "\n",
            "##########ElasticNet##########\n",
            "Mean Absolute Error:   361527.81361492584\n",
            "Mean Seqaure Error:   514284720312.2902\n",
            "R Mean Seqaure Error:   717136.4725854419\n",
            "R2:   0.004657248882625198\n",
            "Model Skoru:   0.004657248882625198\n",
            "\n",
            "\n",
            "##########KNeighborsRegressor##########\n",
            "Mean Absolute Error:   424551.58855507866\n",
            "Mean Seqaure Error:   405949908188.9147\n",
            "R Mean Seqaure Error:   637141.9843244633\n",
            "R2:   0.214327623447101\n",
            "Model Skoru:   0.214327623447101\n",
            "\n",
            "\n",
            "##########RandomForestRegressor##########\n",
            "Mean Absolute Error:   215510.36511444923\n",
            "Mean Seqaure Error:   119917424717.58669\n",
            "R Mean Seqaure Error:   346290.95384890825\n",
            "R2:   0.7679127247785336\n",
            "Model Skoru:   0.7679127247785336\n",
            "\n",
            "\n",
            "##########GradientBoostingRegressor##########\n",
            "Mean Absolute Error:   234280.27354008978\n",
            "Mean Seqaure Error:   138548779872.8033\n",
            "R Mean Seqaure Error:   372221.4124319063\n",
            "R2:   0.7318537411750983\n",
            "Model Skoru:   0.7318537411750983\n",
            "\n",
            "\n",
            "##########AdaBoostRegressor##########\n",
            "Mean Absolute Error:   210972.0772532189\n",
            "Mean Seqaure Error:   128862609879.02718\n",
            "R Mean Seqaure Error:   358974.3861043949\n",
            "R2:   0.7506002811919615\n",
            "Model Skoru:   0.7506002811919615\n",
            "\n",
            "\n"
          ]
        }
      ]
    }
  ]
}